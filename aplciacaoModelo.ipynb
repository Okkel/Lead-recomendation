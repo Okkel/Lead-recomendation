{
  "nbformat": 4,
  "nbformat_minor": 0,
  "metadata": {
    "kernelspec": {
      "display_name": "Python 3",
      "language": "python",
      "name": "python3"
    },
    "language_info": {
      "codemirror_mode": {
        "name": "ipython",
        "version": 3
      },
      "file_extension": ".py",
      "mimetype": "text/x-python",
      "name": "python",
      "nbconvert_exporter": "python",
      "pygments_lexer": "ipython3",
      "version": "3.6.8"
    },
    "colab": {
      "name": "Copy of marketAnalyse.ipynb",
      "provenance": [],
      "collapsed_sections": [],
      "toc_visible": true
    }
  },
  "cells": [
    {
      "cell_type": "markdown",
      "metadata": {
        "id": "OYOdmF2ObBHG",
        "colab_type": "text"
      },
      "source": [
        "# KNN"
      ]
    },
    {
      "cell_type": "code",
      "metadata": {
        "id": "pMKyO3tWYV6a",
        "colab_type": "code",
        "colab": {}
      },
      "source": [
        "import pandas as pd\n",
        "import numpy as np\n",
        "import matplotlib.pyplot as plt\n",
        "import seaborn as sns"
      ],
      "execution_count": 0,
      "outputs": []
    },
    {
      "cell_type": "code",
      "metadata": {
        "id": "mUAYRzpYWr6U",
        "colab_type": "code",
        "colab": {}
      },
      "source": [
        "# Parâmetros\n",
        "\n",
        "QTDE_VIZINHOS = 20\n",
        "#TAM_AMOSTRA = 100\n",
        "TAM_AMOSTRA_PERCENTUAL = 0.6  ### sugestão do Fernando em %\n",
        "QTDE_RODADAS = 10"
      ],
      "execution_count": 0,
      "outputs": []
    },
    {
      "cell_type": "code",
      "metadata": {
        "id": "wyY8EkBagxxo",
        "colab_type": "code",
        "colab": {}
      },
      "source": [
        "# Prepara dataframe para comparar resultados de cada rodada\n",
        "\n",
        "medidasResultado = pd.DataFrame(columns = ['Portfolio',\n",
        "                                          'Tamanho portfolio',\n",
        "                                          'Qtde vizinhos',\n",
        "                                          'Tamanho amostra',\n",
        "                                          'Número rodada',\n",
        "                                          'Qtde recomendações total',\n",
        "                                          'Qtde recomendações únicas',\n",
        "                                          'Qtde recomendações diferentes total',\n",
        "                                          'Qtde recomendações diferentes únicas',\n",
        "                                          'Qtde acertos',\n",
        "                                          'Qtde acertos únicos',\n",
        "                                          'Qtde recomendações diferentes e acertos total',\n",
        "                                          'Qtde recomendações diferentes e acertos únicas'\n",
        "                                          ])"
      ],
      "execution_count": 0,
      "outputs": []
    },
    {
      "cell_type": "code",
      "metadata": {
        "id": "TFY4bQ8UOwMq",
        "colab_type": "code",
        "outputId": "2c6a2698-61b3-4e10-e280-8c93bb23343e",
        "colab": {
          "base_uri": "https://localhost:8080/",
          "height": 34
        }
      },
      "source": [
        "#df = pd.read_csv(\"../src/estaticos_market.csv\")\n",
        "#df = df.drop(['Unnamed: 0'], axis=1)\n",
        "\n",
        "!pip install -U -q PyDrive\n",
        "from pydrive.auth import GoogleAuth\n",
        "from pydrive.drive import GoogleDrive\n",
        "from google.colab import auth\n",
        "from oauth2client.client import GoogleCredentials\n",
        "# Authenticate and create the PyDrive client.\n",
        "auth.authenticate_user()\n",
        "gauth = GoogleAuth()\n",
        "gauth.credentials = GoogleCredentials.get_application_default()\n",
        "drive = GoogleDrive(gauth)\n",
        "link = \"https://drive.google.com/open?id=1YcMHV-9W42-p2NsfiL6BLlmd_ecl8pL7\" #shareble link do drive\n",
        "fluff, id = link.split('=')\n",
        "print (id) # Verify that you have everything after '='\n",
        "downloaded = drive.CreateFile({'id':id}) \n",
        "downloaded.GetContentFile('Mercado_Formatado_certinho.csv')  \n",
        "\n",
        "df = pd.read_csv('Mercado_Formatado_certinho.csv', sep=',', decimal='.', encoding = \"UTF-8\")\n",
        "df = df.drop(['Unnamed: 0'], axis=1)\n"
      ],
      "execution_count": 0,
      "outputs": [
        {
          "output_type": "stream",
          "text": [
            "1YcMHV-9W42-p2NsfiL6BLlmd_ecl8pL7\n"
          ],
          "name": "stdout"
        }
      ]
    },
    {
      "cell_type": "markdown",
      "metadata": {
        "id": "YcnIwhJ5fFeb",
        "colab_type": "text"
      },
      "source": [
        "### Ajusta modelo"
      ]
    },
    {
      "cell_type": "code",
      "metadata": {
        "id": "d-XIM9Cnegly",
        "colab_type": "code",
        "colab": {}
      },
      "source": [
        "dfSemID = df.drop('id',axis=1)"
      ],
      "execution_count": 0,
      "outputs": []
    },
    {
      "cell_type": "code",
      "metadata": {
        "id": "E5nbFhwzbCQl",
        "colab_type": "code",
        "colab": {}
      },
      "source": [
        "from sklearn.neighbors import NearestNeighbors\n",
        "model_knn = NearestNeighbors(metric='cosine', algorithm='auto', n_neighbors=QTDE_VIZINHOS, n_jobs=-1 )"
      ],
      "execution_count": 0,
      "outputs": []
    },
    {
      "cell_type": "code",
      "metadata": {
        "id": "VgNL1cwDbmHt",
        "colab_type": "code",
        "outputId": "d1bffa75-69ad-4f34-d1c2-7cfe17058602",
        "colab": {
          "base_uri": "https://localhost:8080/",
          "height": 68
        }
      },
      "source": [
        "model_knn.fit(dfSemID)"
      ],
      "execution_count": 0,
      "outputs": [
        {
          "output_type": "execute_result",
          "data": {
            "text/plain": [
              "NearestNeighbors(algorithm='auto', leaf_size=30, metric='cosine',\n",
              "                 metric_params=None, n_jobs=-1, n_neighbors=20, p=2,\n",
              "                 radius=1.0)"
            ]
          },
          "metadata": {
            "tags": []
          },
          "execution_count": 7
        }
      ]
    },
    {
      "cell_type": "code",
      "metadata": {
        "id": "eXxlsrCUb604",
        "colab_type": "code",
        "outputId": "40b794e1-a76a-40ca-ecdf-189f85222bc0",
        "colab": {
          "base_uri": "https://localhost:8080/",
          "height": 153
        }
      },
      "source": [
        "# Vê saída do modelo para a empresa 0 (índice 0)\n",
        "\n",
        "model_knn.kneighbors(dfSemID.iloc[[0]])"
      ],
      "execution_count": 0,
      "outputs": [
        {
          "output_type": "execute_result",
          "data": {
            "text/plain": [
              "(array([[1.11022302e-16, 8.92619312e-14, 1.37778677e-13, 1.56430424e-13,\n",
              "         2.22488694e-13, 2.29705144e-13, 2.36477504e-13, 2.37476705e-13,\n",
              "         2.60680366e-13, 2.63566946e-13, 2.76667578e-13, 2.81996648e-13,\n",
              "         2.86770607e-13, 2.86992652e-13, 2.90878432e-13, 2.91655589e-13,\n",
              "         2.94431146e-13, 2.94653191e-13, 2.99649194e-13, 3.00870440e-13]]),\n",
              " array([[     0, 253667, 455035, 355353, 192899, 112746, 343399, 204736,\n",
              "          40281, 103381,  84091, 272683, 321835, 302060, 336064,  75763,\n",
              "         443074, 419907, 282108, 187777]]))"
            ]
          },
          "metadata": {
            "tags": []
          },
          "execution_count": 8
        }
      ]
    },
    {
      "cell_type": "code",
      "metadata": {
        "id": "3yAluDQEh03W",
        "colab_type": "code",
        "outputId": "170b95bd-7ced-4131-944a-dd0d50aa4045",
        "colab": {
          "base_uri": "https://localhost:8080/",
          "height": 153
        }
      },
      "source": [
        "# Vê saída do modelo para a empresa 14097 (índice 14097)\n",
        "\n",
        "model_knn.kneighbors(dfSemID.iloc[[14097]])"
      ],
      "execution_count": 0,
      "outputs": [
        {
          "output_type": "execute_result",
          "data": {
            "text/plain": [
              "(array([[2.22044605e-16, 3.77475828e-15, 4.66293670e-15, 4.99600361e-15,\n",
              "         5.55111512e-15, 6.10622664e-15, 6.77236045e-15, 7.10542736e-15,\n",
              "         7.43849426e-15, 8.10462808e-15, 8.10462808e-15, 8.77076189e-15,\n",
              "         8.88178420e-15, 8.88178420e-15, 8.88178420e-15, 8.99280650e-15,\n",
              "         9.10382880e-15, 9.43689571e-15, 9.65894031e-15, 9.65894031e-15]]),\n",
              " array([[ 14097, 303094,  26491, 227003, 244798, 241432, 135754,  64562,\n",
              "          94291,  23400, 428239, 159775, 133840, 320729,  79550, 146042,\n",
              "         372623,  61649, 221448, 320640]]))"
            ]
          },
          "metadata": {
            "tags": []
          },
          "execution_count": 9
        }
      ]
    },
    {
      "cell_type": "code",
      "metadata": {
        "id": "QznuneE7YOAX",
        "colab_type": "code",
        "colab": {}
      },
      "source": [
        "# Faz uma lista de 3 listas: empresa, vizinhos de cada empresa, distâncias\n",
        "# a = [0] * qtdeVizinhos\n",
        "# b = list(vizinhosdoindividuo[1][0])\n",
        "# c = list(vizinhosdoindividuo[0][0])\n",
        "# oi = list(zip(a,b,c))\n",
        "# pd.DataFrame(data=oi, columns=[\"Indivíduo\",\"Vizinho\",\"Distância\"])"
      ],
      "execution_count": 0,
      "outputs": []
    },
    {
      "cell_type": "markdown",
      "metadata": {
        "id": "YlSqaKRLfEx4",
        "colab_type": "text"
      },
      "source": [
        "### Funções auxiliareas"
      ]
    },
    {
      "cell_type": "code",
      "metadata": {
        "id": "WssRPOsddSQ-",
        "colab_type": "code",
        "colab": {}
      },
      "source": [
        "# Transforma uma lista de índices em uma lista de IDs\n",
        "\n",
        "def returnID (df, list_indices):\n",
        "  list_ids = []\n",
        "\n",
        "  for i in list_indices:\n",
        "    list_ids.append(df.iloc[i]['id'])\n",
        "\n",
        "  return list_ids"
      ],
      "execution_count": 0,
      "outputs": []
    },
    {
      "cell_type": "code",
      "metadata": {
        "id": "SkjO1tuijtjv",
        "colab_type": "code",
        "colab": {}
      },
      "source": [
        "# Retorna os vizinhos para cada empresa de uma lista de empresas\n",
        "\n",
        "def recomenda(lista_empresas, qtde_vizinhos):\n",
        "\n",
        "  temp = {\"Origem\":[],\"Vizinho\":[],\"Distância\":[]}\n",
        "\n",
        "  for empresa in lista_empresas:\n",
        "\n",
        "    vizinhos = model_knn.kneighbors(dfSemID.iloc[[empresa]])\n",
        "\n",
        "    a = [empresa] * qtde_vizinhos\n",
        "    b = list(vizinhos[1][0])\n",
        "    c = list(vizinhos[0][0])\n",
        "    \n",
        "    a_ids = returnID(df, a)\n",
        "    b_ids = returnID(df, b)\n",
        "\n",
        "    temp['Origem'].extend(a_ids)\n",
        "    temp['Vizinho'].extend(b_ids)\n",
        "    temp['Distância'].extend(c)\n",
        "\n",
        "  # Monta o dataframe e apaga as linhas que é a própria empresa se recomendando\n",
        "  result = pd.DataFrame(data=temp)\n",
        "  result = result[result['Origem'] != result['Vizinho']]\n",
        "\n",
        "  return result"
      ],
      "execution_count": 0,
      "outputs": []
    },
    {
      "cell_type": "code",
      "metadata": {
        "id": "ew7Lrn6pwsW7",
        "colab_type": "code",
        "colab": {}
      },
      "source": [
        "def amostra_portfolio(df_mercado, df_portfolio, tam_amostra):\n",
        "\n",
        "  # Amostra o portfolio, retornando uma lista de IDs\n",
        "  amostra_IDs = df_portfolio.sample(n = tam_amostra)['id'].tolist()\n",
        "\n",
        "  # Pega os índices (na Mercado) dos IDs amostrados\n",
        "  amostra_indices = df_mercado.index[df_mercado['id'].isin(amostra_IDs)]\n",
        "\n",
        "  return amostra_indices"
      ],
      "execution_count": 0,
      "outputs": []
    },
    {
      "cell_type": "code",
      "metadata": {
        "id": "7EmONdFczqsh",
        "colab_type": "code",
        "colab": {}
      },
      "source": [
        "# Flag para recomendações fora da amostra\n",
        "# Adiciona uma coluna no dataframe de recomendações, informando se é Diferente de alguém que já existia na amostra\n",
        "\n",
        "def flag_recom_diferentes(df_recomendacoes):\n",
        "\n",
        "  vizinhos = set(list(df_recomendacoes['Vizinho']))\n",
        "  origens = set(list(df_recomendacoes['Origem']))\n",
        "\n",
        "  diferentes = list(vizinhos - origens)\n",
        "\n",
        "  df_recomendacoes['Diferente'] = [1 if i in(diferentes) else 0 for i in list(df_recomendacoes['Vizinho'])]\n",
        "\n",
        "  return df_recomendacoes"
      ],
      "execution_count": 0,
      "outputs": []
    },
    {
      "cell_type": "code",
      "metadata": {
        "id": "DeMj6_p059T6",
        "colab_type": "code",
        "colab": {}
      },
      "source": [
        "# Flag para acerto\n",
        "# Adiciona uma coluna no dataframe de recomendações, informando se está no Portfolio\n",
        "\n",
        "def flag_recom_acerto(df_recomendacoes, df_portfolio):\n",
        "\n",
        "  vizinhos = set(list(df_recomendacoes['Vizinho']))\n",
        "  portfolio = set(list(df_portfolio['id']))\n",
        "\n",
        "  acertos = vizinhos.intersection(portfolio)\n",
        "\n",
        "  df_recomendacoes['Acerto'] = [1 if i in(acertos) else 0 for i in list(df_recomendacoes['Vizinho'])]\n",
        "\n",
        "  return df_recomendacoes"
      ],
      "execution_count": 0,
      "outputs": []
    },
    {
      "cell_type": "code",
      "metadata": {
        "id": "oTvwY1ObrB6B",
        "colab_type": "code",
        "colab": {}
      },
      "source": [
        "# Junta a flag para recomendações fora da amostra e flag para acerto\n",
        "\n",
        "def flag_recom_diferentes_e_acerto(df_recomendacoes):\n",
        "\n",
        "  df_recomendacoes['Diferente e Acerto'] = df_recomendacoes['Acerto'] & df_recomendacoes['Diferente']\n",
        "  \n",
        "  return df_recomendacoes"
      ],
      "execution_count": 0,
      "outputs": []
    },
    {
      "cell_type": "code",
      "metadata": {
        "id": "ovKymsiH7ViJ",
        "colab_type": "code",
        "colab": {}
      },
      "source": [
        "# Calcula medidas de cada rodada\n",
        "#   - Quantidade de recomendações no total\n",
        "#   - Quantidade de recomendações únicas\n",
        "#   - Quantidade de recomendações fora da amostra\n",
        "#   - Quantidade de recomendações fora da amostra únicas\n",
        "#   - Quantidade de acertos\n",
        "#   - Quantidade de acertos únicos\n",
        "#   - Quantidade de recomendações fora da amostra e acertos\n",
        "#   - Quantidade de recomendações fora da amostra e acertos únicas\n",
        "\n",
        "def calcula_medidas_rodada(df_recomendacoes):\n",
        "\n",
        "  qtde_recom_total = len(df_recomendacoes['Vizinho'])\n",
        "  qtde_recom_unicas = len(df_recomendacoes['Vizinho'].unique())\n",
        "  qtde_recom_diferentes = df_recomendacoes['Diferente'].sum()\n",
        "  qtde_recom_diferentes_unicas = len(df_recomendacoes[df_recomendacoes['Diferente'] == 1]['Vizinho'].unique())\n",
        "  qtde_acertos = df_recomendacoes['Acerto'].sum()\n",
        "  qtde_acertos_unicos = len(df_recomendacoes[df_recomendacoes['Acerto'] == 1]['Vizinho'].unique())\n",
        "  qtde_recom_diferentes_e_acertos =  df_recomendacoes['Diferente e Acerto'].sum()\n",
        "  qtde_recom_diferentes_e_acertos_unicas = len(df_recomendacoes[df_recomendacoes['Diferente e Acerto'] == 1]['Vizinho'].unique())\n",
        "\n",
        "  return [qtde_recom_total, qtde_recom_unicas, \n",
        "          qtde_recom_diferentes, qtde_recom_diferentes_unicas, \n",
        "          qtde_acertos, qtde_acertos_unicos,\n",
        "          qtde_recom_diferentes_e_acertos, qtde_recom_diferentes_e_acertos_unicas]"
      ],
      "execution_count": 0,
      "outputs": []
    },
    {
      "cell_type": "markdown",
      "metadata": {
        "id": "_S4UXEw0c0MB",
        "colab_type": "text"
      },
      "source": [
        "### Testando portfolio 3"
      ]
    },
    {
      "cell_type": "code",
      "metadata": {
        "id": "d_0mOQYTc2Ho",
        "colab_type": "code",
        "colab": {}
      },
      "source": [
        "p3 = pd.read_csv('Cópia de estaticos_portfolio3.csv')\n",
        "p3 = p3.drop(['Unnamed: 0'], axis=1)"
      ],
      "execution_count": 0,
      "outputs": []
    },
    {
      "cell_type": "code",
      "metadata": {
        "id": "4yY3uacWYOE7",
        "colab_type": "code",
        "outputId": "133200d3-d772-4988-b739-b34eb7b782bb",
        "colab": {
          "base_uri": "https://localhost:8080/",
          "height": 34
        }
      },
      "source": [
        "TAM_AMOSTRA = round(TAM_AMOSTRA_PERCENTUAL * len(p3))\n",
        "TAM_AMOSTRA"
      ],
      "execution_count": 0,
      "outputs": [
        {
          "output_type": "execute_result",
          "data": {
            "text/plain": [
              "159"
            ]
          },
          "metadata": {
            "tags": []
          },
          "execution_count": 19
        }
      ]
    },
    {
      "cell_type": "code",
      "metadata": {
        "id": "-10JZPwYCDZ_",
        "colab_type": "code",
        "colab": {}
      },
      "source": [
        "#QTDE_RODADAS = 1"
      ],
      "execution_count": 0,
      "outputs": []
    },
    {
      "cell_type": "code",
      "metadata": {
        "id": "tilv1WWAzIIv",
        "colab_type": "code",
        "colab": {}
      },
      "source": [
        "# Para cada rodada\n",
        "\n",
        "for RODADA in range(QTDE_RODADAS):\n",
        "\n",
        "  # Amostra o portfolio\n",
        "  amostra_p3_indices = amostra_portfolio(df, p3, TAM_AMOSTRA)\n",
        "\n",
        "  # Roda o KNN para aquela amostra\n",
        "  recomendacoes_p3 = recomenda(amostra_p3_indices, QTDE_VIZINHOS)\n",
        "\n",
        "  # Flag para recomendações fora da amostra\n",
        "  recomendacoes_p3 = flag_recom_diferentes(recomendacoes_p3)\n",
        "\n",
        "  # Flag para acerto\n",
        "  recomendacoes_p3 = flag_recom_acerto(recomendacoes_p3, p3)\n",
        "\n",
        "  # Junta a flag para recomendações fora da amostra e flag para acerto\n",
        "  recomendacoes_p3 = flag_recom_diferentes_e_acerto(recomendacoes_p3)\n",
        "\n",
        "  # Exporta matriz de recomendações: [Origem, Vizinho, Distância, Diferente, Acerto]\n",
        "  nomearquivo = 'recomendacoes_p3_rodada_' + str(RODADA) + '.csv'\n",
        "  recomendacoes_p3.to_csv(nomearquivo)\n",
        "\n",
        "  # Calcula medidas da rodada\n",
        "  [qtde_recom_total, qtde_recom_unicas, \n",
        "   qtde_recom_diferentes, qtde_recom_diferentes_unicas, \n",
        "   qtde_acertos, qtde_acertos_unicos, \n",
        "   qtde_recom_diferentes_e_acertos, qtde_recom_diferentes_e_acertos_unicas] = calcula_medidas_rodada(recomendacoes_p3)\n",
        "\n",
        "  # Adiciona uma linha no dataframe de resultados, com os resultados daquela rodada\n",
        "  medidasResultado = medidasResultado.append(pd.Series(\n",
        "                                                        ['Portfolio 3',\n",
        "                                                        len(p3),\n",
        "                                                        QTDE_VIZINHOS,\n",
        "                                                        TAM_AMOSTRA,\n",
        "                                                        RODADA,\n",
        "                                                        qtde_recom_total,\n",
        "                                                        qtde_recom_unicas,\n",
        "                                                        qtde_recom_diferentes,\n",
        "                                                        qtde_recom_diferentes_unicas,\n",
        "                                                        qtde_acertos,\n",
        "                                                        qtde_acertos_unicos,\n",
        "                                                        qtde_recom_diferentes_e_acertos,\n",
        "                                                        qtde_recom_diferentes_e_acertos_unicas\n",
        "                                                        ],\n",
        "                                                        index = medidasResultado.columns\n",
        "                                                        ), ignore_index=True)"
      ],
      "execution_count": 0,
      "outputs": []
    },
    {
      "cell_type": "code",
      "metadata": {
        "id": "1-OjhaPgu6Ts",
        "colab_type": "code",
        "colab": {}
      },
      "source": [
        "# Exporta matriz de resultados de todas as rodadas\n",
        "nomearquivo = 'resumo_rodadas_p3.csv'\n",
        "medidasResultado.to_csv(nomearquivo)"
      ],
      "execution_count": 0,
      "outputs": []
    },
    {
      "cell_type": "code",
      "metadata": {
        "id": "uU6s_lSAGDoL",
        "colab_type": "code",
        "colab": {}
      },
      "source": [
        "#medidasResultado.head(10)"
      ],
      "execution_count": 0,
      "outputs": []
    },
    {
      "cell_type": "code",
      "metadata": {
        "id": "ALRPMxu6W-6f",
        "colab_type": "code",
        "outputId": "6bc4cf65-1db7-4022-8615-0bd99fa128d8",
        "colab": {
          "base_uri": "https://localhost:8080/",
          "height": 326
        }
      },
      "source": [
        "recomendacoes_p3.head()"
      ],
      "execution_count": 0,
      "outputs": [
        {
          "output_type": "execute_result",
          "data": {
            "text/html": [
              "<div>\n",
              "<style scoped>\n",
              "    .dataframe tbody tr th:only-of-type {\n",
              "        vertical-align: middle;\n",
              "    }\n",
              "\n",
              "    .dataframe tbody tr th {\n",
              "        vertical-align: top;\n",
              "    }\n",
              "\n",
              "    .dataframe thead th {\n",
              "        text-align: right;\n",
              "    }\n",
              "</style>\n",
              "<table border=\"1\" class=\"dataframe\">\n",
              "  <thead>\n",
              "    <tr style=\"text-align: right;\">\n",
              "      <th></th>\n",
              "      <th>Origem</th>\n",
              "      <th>Vizinho</th>\n",
              "      <th>Distância</th>\n",
              "      <th>Diferente</th>\n",
              "      <th>Acerto</th>\n",
              "      <th>Diferente e Acerto</th>\n",
              "    </tr>\n",
              "  </thead>\n",
              "  <tbody>\n",
              "    <tr>\n",
              "      <th>1</th>\n",
              "      <td>bb61c09449a1c1f8b78955d8b7a7f73599e78358993fe2...</td>\n",
              "      <td>e5ac842358b2fd0a6449ed3abe025b1c5a5470e2b4cd24...</td>\n",
              "      <td>3.494211e-09</td>\n",
              "      <td>1</td>\n",
              "      <td>0</td>\n",
              "      <td>0</td>\n",
              "    </tr>\n",
              "    <tr>\n",
              "      <th>2</th>\n",
              "      <td>bb61c09449a1c1f8b78955d8b7a7f73599e78358993fe2...</td>\n",
              "      <td>d27c815e7880827e4b96fb5c8729a0fc403c55b2f64b3d...</td>\n",
              "      <td>5.092978e-09</td>\n",
              "      <td>1</td>\n",
              "      <td>0</td>\n",
              "      <td>0</td>\n",
              "    </tr>\n",
              "    <tr>\n",
              "      <th>3</th>\n",
              "      <td>bb61c09449a1c1f8b78955d8b7a7f73599e78358993fe2...</td>\n",
              "      <td>faa7f1a200e3b2e6da7334ffaef18ff3faf618fa980d16...</td>\n",
              "      <td>6.720639e-09</td>\n",
              "      <td>0</td>\n",
              "      <td>1</td>\n",
              "      <td>0</td>\n",
              "    </tr>\n",
              "    <tr>\n",
              "      <th>4</th>\n",
              "      <td>bb61c09449a1c1f8b78955d8b7a7f73599e78358993fe2...</td>\n",
              "      <td>25a22502f77a075af92878f748a598fee97116c1f16f7e...</td>\n",
              "      <td>9.542350e-09</td>\n",
              "      <td>1</td>\n",
              "      <td>0</td>\n",
              "      <td>0</td>\n",
              "    </tr>\n",
              "    <tr>\n",
              "      <th>5</th>\n",
              "      <td>bb61c09449a1c1f8b78955d8b7a7f73599e78358993fe2...</td>\n",
              "      <td>3eb09adfd5c81e02b960584ca51cc699998d748aaf1fee...</td>\n",
              "      <td>1.943159e-08</td>\n",
              "      <td>1</td>\n",
              "      <td>0</td>\n",
              "      <td>0</td>\n",
              "    </tr>\n",
              "  </tbody>\n",
              "</table>\n",
              "</div>"
            ],
            "text/plain": [
              "                                              Origem  ... Diferente e Acerto\n",
              "1  bb61c09449a1c1f8b78955d8b7a7f73599e78358993fe2...  ...                  0\n",
              "2  bb61c09449a1c1f8b78955d8b7a7f73599e78358993fe2...  ...                  0\n",
              "3  bb61c09449a1c1f8b78955d8b7a7f73599e78358993fe2...  ...                  0\n",
              "4  bb61c09449a1c1f8b78955d8b7a7f73599e78358993fe2...  ...                  0\n",
              "5  bb61c09449a1c1f8b78955d8b7a7f73599e78358993fe2...  ...                  0\n",
              "\n",
              "[5 rows x 6 columns]"
            ]
          },
          "metadata": {
            "tags": []
          },
          "execution_count": 24
        }
      ]
    },
    {
      "cell_type": "markdown",
      "metadata": {
        "colab_type": "text",
        "id": "vyaJeF5nhCIP"
      },
      "source": [
        "### Testando portfolio 2"
      ]
    },
    {
      "cell_type": "code",
      "metadata": {
        "colab_type": "code",
        "id": "ak46czMxhCIc",
        "colab": {}
      },
      "source": [
        "p2 = pd.read_csv('Cópia de estaticos_portfolio2.csv')\n",
        "p2 = p2.drop(['Unnamed: 0'], axis=1)"
      ],
      "execution_count": 0,
      "outputs": []
    },
    {
      "cell_type": "code",
      "metadata": {
        "colab_type": "code",
        "outputId": "7e0d72e1-9e56-4b38-e7bc-4e941c1e9d29",
        "id": "VfypJ8FmhCIt",
        "colab": {
          "base_uri": "https://localhost:8080/",
          "height": 34
        }
      },
      "source": [
        "TAM_AMOSTRA = round(TAM_AMOSTRA_PERCENTUAL * len(p2))\n",
        "TAM_AMOSTRA"
      ],
      "execution_count": 0,
      "outputs": [
        {
          "output_type": "execute_result",
          "data": {
            "text/plain": [
              "340"
            ]
          },
          "metadata": {
            "tags": []
          },
          "execution_count": 26
        }
      ]
    },
    {
      "cell_type": "code",
      "metadata": {
        "colab_type": "code",
        "id": "z4vLL6NqhCJG",
        "colab": {}
      },
      "source": [
        "# Para cada rodada\n",
        "\n",
        "for RODADA in range(QTDE_RODADAS):\n",
        "\n",
        "  # Amostra o portfolio\n",
        "  amostra_p2_indices = amostra_portfolio(df, p2, TAM_AMOSTRA)\n",
        "\n",
        "  # Roda o KNN para aquela amostra\n",
        "  recomendacoes_p2 = recomenda(amostra_p2_indices, QTDE_VIZINHOS)\n",
        "\n",
        "  # Flag para recomendações fora da amostra\n",
        "  recomendacoes_p2 = flag_recom_diferentes(recomendacoes_p2)\n",
        "\n",
        "  # Flag para acerto\n",
        "  recomendacoes_p2 = flag_recom_acerto(recomendacoes_p2, p2)\n",
        "\n",
        "  # Junta a flag para recomendações fora da amostra e flag para acerto\n",
        "  recomendacoes_p2 = flag_recom_diferentes_e_acerto(recomendacoes_p2)\n",
        "\n",
        "  # Exporta matriz de recomendações: [Origem, Vizinho, Distância, Diferente, Acerto]\n",
        "  nomearquivo = 'recomendacoes_p2_rodada_' + str(RODADA) + '.csv'\n",
        "  recomendacoes_p2.to_csv(nomearquivo)\n",
        "\n",
        "  # Calcula medidas da rodada\n",
        "  [qtde_recom_total, qtde_recom_unicas, \n",
        "   qtde_recom_diferentes, qtde_recom_diferentes_unicas, \n",
        "   qtde_acertos, qtde_acertos_unicos, \n",
        "   qtde_recom_diferentes_e_acertos, qtde_recom_diferentes_e_acertos_unicas] = calcula_medidas_rodada(recomendacoes_p2)\n",
        "\n",
        "  # Adiciona uma linha no dataframe de resultados, com os resultados daquela rodada\n",
        "  medidasResultado = medidasResultado.append(pd.Series(\n",
        "                                                        ['Portfolio 2',\n",
        "                                                        len(p2),\n",
        "                                                        QTDE_VIZINHOS,\n",
        "                                                        TAM_AMOSTRA,\n",
        "                                                        RODADA,\n",
        "                                                        qtde_recom_total,\n",
        "                                                        qtde_recom_unicas,\n",
        "                                                        qtde_recom_diferentes,\n",
        "                                                        qtde_recom_diferentes_unicas,\n",
        "                                                        qtde_acertos,\n",
        "                                                        qtde_acertos_unicos,\n",
        "                                                        qtde_recom_diferentes_e_acertos,\n",
        "                                                        qtde_recom_diferentes_e_acertos_unicas\n",
        "                                                        ],\n",
        "                                                        index = medidasResultado.columns\n",
        "                                                        ), ignore_index=True)"
      ],
      "execution_count": 0,
      "outputs": []
    },
    {
      "cell_type": "code",
      "metadata": {
        "colab_type": "code",
        "id": "rYAYfvJXhCJN",
        "colab": {}
      },
      "source": [
        "# Exporta matriz de resultados de todas as rodadas\n",
        "nomearquivo = 'resumo_rodadas_p2.csv'\n",
        "medidasResultado.to_csv(nomearquivo)"
      ],
      "execution_count": 0,
      "outputs": []
    },
    {
      "cell_type": "code",
      "metadata": {
        "colab_type": "code",
        "outputId": "2444efed-298d-4c0c-c7da-d0d62af91d89",
        "id": "ieqWi45whCJU",
        "colab": {
          "base_uri": "https://localhost:8080/",
          "height": 447
        }
      },
      "source": [
        "medidasResultado.tail(10)"
      ],
      "execution_count": 0,
      "outputs": [
        {
          "output_type": "execute_result",
          "data": {
            "text/html": [
              "<div>\n",
              "<style scoped>\n",
              "    .dataframe tbody tr th:only-of-type {\n",
              "        vertical-align: middle;\n",
              "    }\n",
              "\n",
              "    .dataframe tbody tr th {\n",
              "        vertical-align: top;\n",
              "    }\n",
              "\n",
              "    .dataframe thead th {\n",
              "        text-align: right;\n",
              "    }\n",
              "</style>\n",
              "<table border=\"1\" class=\"dataframe\">\n",
              "  <thead>\n",
              "    <tr style=\"text-align: right;\">\n",
              "      <th></th>\n",
              "      <th>Portfolio</th>\n",
              "      <th>Tamanho portfolio</th>\n",
              "      <th>Qtde vizinhos</th>\n",
              "      <th>Tamanho amostra</th>\n",
              "      <th>Número rodada</th>\n",
              "      <th>Qtde recomendações total</th>\n",
              "      <th>Qtde recomendações únicas</th>\n",
              "      <th>Qtde recomendações diferentes total</th>\n",
              "      <th>Qtde recomendações diferentes únicas</th>\n",
              "      <th>Qtde acertos</th>\n",
              "      <th>Qtde acertos únicos</th>\n",
              "      <th>Qtde recomendações diferentes e acertos total</th>\n",
              "      <th>Qtde recomendações diferentes e acertos únicas</th>\n",
              "    </tr>\n",
              "  </thead>\n",
              "  <tbody>\n",
              "    <tr>\n",
              "      <th>10</th>\n",
              "      <td>Portfolio 2</td>\n",
              "      <td>566</td>\n",
              "      <td>20</td>\n",
              "      <td>340</td>\n",
              "      <td>0</td>\n",
              "      <td>6460</td>\n",
              "      <td>2610</td>\n",
              "      <td>5391</td>\n",
              "      <td>2339</td>\n",
              "      <td>1707</td>\n",
              "      <td>440</td>\n",
              "      <td>638</td>\n",
              "      <td>169</td>\n",
              "    </tr>\n",
              "    <tr>\n",
              "      <th>11</th>\n",
              "      <td>Portfolio 2</td>\n",
              "      <td>566</td>\n",
              "      <td>20</td>\n",
              "      <td>340</td>\n",
              "      <td>1</td>\n",
              "      <td>6460</td>\n",
              "      <td>2665</td>\n",
              "      <td>5370</td>\n",
              "      <td>2406</td>\n",
              "      <td>1729</td>\n",
              "      <td>426</td>\n",
              "      <td>639</td>\n",
              "      <td>167</td>\n",
              "    </tr>\n",
              "    <tr>\n",
              "      <th>12</th>\n",
              "      <td>Portfolio 2</td>\n",
              "      <td>566</td>\n",
              "      <td>20</td>\n",
              "      <td>340</td>\n",
              "      <td>2</td>\n",
              "      <td>6460</td>\n",
              "      <td>2834</td>\n",
              "      <td>5535</td>\n",
              "      <td>2574</td>\n",
              "      <td>1624</td>\n",
              "      <td>439</td>\n",
              "      <td>699</td>\n",
              "      <td>179</td>\n",
              "    </tr>\n",
              "    <tr>\n",
              "      <th>13</th>\n",
              "      <td>Portfolio 2</td>\n",
              "      <td>566</td>\n",
              "      <td>20</td>\n",
              "      <td>340</td>\n",
              "      <td>3</td>\n",
              "      <td>6460</td>\n",
              "      <td>2709</td>\n",
              "      <td>5399</td>\n",
              "      <td>2449</td>\n",
              "      <td>1730</td>\n",
              "      <td>436</td>\n",
              "      <td>669</td>\n",
              "      <td>176</td>\n",
              "    </tr>\n",
              "    <tr>\n",
              "      <th>14</th>\n",
              "      <td>Portfolio 2</td>\n",
              "      <td>566</td>\n",
              "      <td>20</td>\n",
              "      <td>340</td>\n",
              "      <td>4</td>\n",
              "      <td>6460</td>\n",
              "      <td>2806</td>\n",
              "      <td>5517</td>\n",
              "      <td>2542</td>\n",
              "      <td>1624</td>\n",
              "      <td>444</td>\n",
              "      <td>681</td>\n",
              "      <td>180</td>\n",
              "    </tr>\n",
              "    <tr>\n",
              "      <th>15</th>\n",
              "      <td>Portfolio 2</td>\n",
              "      <td>566</td>\n",
              "      <td>20</td>\n",
              "      <td>340</td>\n",
              "      <td>5</td>\n",
              "      <td>6460</td>\n",
              "      <td>2795</td>\n",
              "      <td>5457</td>\n",
              "      <td>2540</td>\n",
              "      <td>1681</td>\n",
              "      <td>433</td>\n",
              "      <td>678</td>\n",
              "      <td>178</td>\n",
              "    </tr>\n",
              "    <tr>\n",
              "      <th>16</th>\n",
              "      <td>Portfolio 2</td>\n",
              "      <td>566</td>\n",
              "      <td>20</td>\n",
              "      <td>340</td>\n",
              "      <td>6</td>\n",
              "      <td>6460</td>\n",
              "      <td>2719</td>\n",
              "      <td>5413</td>\n",
              "      <td>2460</td>\n",
              "      <td>1731</td>\n",
              "      <td>432</td>\n",
              "      <td>684</td>\n",
              "      <td>173</td>\n",
              "    </tr>\n",
              "    <tr>\n",
              "      <th>17</th>\n",
              "      <td>Portfolio 2</td>\n",
              "      <td>566</td>\n",
              "      <td>20</td>\n",
              "      <td>340</td>\n",
              "      <td>7</td>\n",
              "      <td>6460</td>\n",
              "      <td>2812</td>\n",
              "      <td>5439</td>\n",
              "      <td>2557</td>\n",
              "      <td>1704</td>\n",
              "      <td>433</td>\n",
              "      <td>683</td>\n",
              "      <td>178</td>\n",
              "    </tr>\n",
              "    <tr>\n",
              "      <th>18</th>\n",
              "      <td>Portfolio 2</td>\n",
              "      <td>566</td>\n",
              "      <td>20</td>\n",
              "      <td>340</td>\n",
              "      <td>8</td>\n",
              "      <td>6460</td>\n",
              "      <td>2902</td>\n",
              "      <td>5541</td>\n",
              "      <td>2647</td>\n",
              "      <td>1614</td>\n",
              "      <td>433</td>\n",
              "      <td>695</td>\n",
              "      <td>178</td>\n",
              "    </tr>\n",
              "    <tr>\n",
              "      <th>19</th>\n",
              "      <td>Portfolio 2</td>\n",
              "      <td>566</td>\n",
              "      <td>20</td>\n",
              "      <td>340</td>\n",
              "      <td>9</td>\n",
              "      <td>6460</td>\n",
              "      <td>2776</td>\n",
              "      <td>5433</td>\n",
              "      <td>2517</td>\n",
              "      <td>1712</td>\n",
              "      <td>435</td>\n",
              "      <td>685</td>\n",
              "      <td>176</td>\n",
              "    </tr>\n",
              "  </tbody>\n",
              "</table>\n",
              "</div>"
            ],
            "text/plain": [
              "      Portfolio  ... Qtde recomendações diferentes e acertos únicas\n",
              "10  Portfolio 2  ...                                            169\n",
              "11  Portfolio 2  ...                                            167\n",
              "12  Portfolio 2  ...                                            179\n",
              "13  Portfolio 2  ...                                            176\n",
              "14  Portfolio 2  ...                                            180\n",
              "15  Portfolio 2  ...                                            178\n",
              "16  Portfolio 2  ...                                            173\n",
              "17  Portfolio 2  ...                                            178\n",
              "18  Portfolio 2  ...                                            178\n",
              "19  Portfolio 2  ...                                            176\n",
              "\n",
              "[10 rows x 13 columns]"
            ]
          },
          "metadata": {
            "tags": []
          },
          "execution_count": 31
        }
      ]
    },
    {
      "cell_type": "code",
      "metadata": {
        "id": "NdAPJpJi9tue",
        "colab_type": "code",
        "colab": {}
      },
      "source": [
        ""
      ],
      "execution_count": 0,
      "outputs": []
    },
    {
      "cell_type": "markdown",
      "metadata": {
        "colab_type": "text",
        "id": "ds4jxyiHAU9I"
      },
      "source": [
        "### Testando portfolio 1"
      ]
    },
    {
      "cell_type": "code",
      "metadata": {
        "colab_type": "code",
        "id": "xCk5_GB4AU9P",
        "colab": {}
      },
      "source": [
        "p1 = pd.read_csv('Cópia de estaticos_portfolio2.csv')\n",
        "p1 = p1.drop(['Unnamed: 0'], axis=1)"
      ],
      "execution_count": 0,
      "outputs": []
    },
    {
      "cell_type": "code",
      "metadata": {
        "id": "PsGW_axj-NGN",
        "colab_type": "code",
        "colab": {}
      },
      "source": [
        "p1 = p1.filter(['id'])"
      ],
      "execution_count": 0,
      "outputs": []
    },
    {
      "cell_type": "code",
      "metadata": {
        "colab_type": "code",
        "outputId": "16927ffc-f47e-48f3-82ab-b351ee226fe9",
        "id": "aj05o28zAU9T",
        "colab": {
          "base_uri": "https://localhost:8080/",
          "height": 34
        }
      },
      "source": [
        "TAM_AMOSTRA = round(TAM_AMOSTRA_PERCENTUAL * len(p1))\n",
        "TAM_AMOSTRA"
      ],
      "execution_count": 0,
      "outputs": [
        {
          "output_type": "execute_result",
          "data": {
            "text/plain": [
              "340"
            ]
          },
          "metadata": {
            "tags": []
          },
          "execution_count": 42
        }
      ]
    },
    {
      "cell_type": "code",
      "metadata": {
        "colab_type": "code",
        "id": "lh_0zlyhAU9W",
        "colab": {}
      },
      "source": [
        "# Para cada rodada\n",
        "\n",
        "for RODADA in range(QTDE_RODADAS):\n",
        "\n",
        "  # Amostra o portfolio\n",
        "  amostra_p1_indices = amostra_portfolio(df, p1, TAM_AMOSTRA)\n",
        "\n",
        "  # Roda o KNN para aquela amostra\n",
        "  recomendacoes_p1 = recomenda(amostra_p1_indices, QTDE_VIZINHOS)\n",
        "\n",
        "  # Flag para recomendações fora da amostra\n",
        "  recomendacoes_p1 = flag_recom_diferentes(recomendacoes_p1)\n",
        "\n",
        "  # Flag para acerto\n",
        "  recomendacoes_p1 = flag_recom_acerto(recomendacoes_p1, p1)\n",
        "\n",
        "  # Junta a flag para recomendações fora da amostra e flag para acerto\n",
        "  recomendacoes_p1 = flag_recom_diferentes_e_acerto(recomendacoes_p1)\n",
        "\n",
        "  # Exporta matriz de recomendações: [Origem, Vizinho, Distância, Diferente, Acerto]\n",
        "  nomearquivo = 'recomendacoes_p1_rodada_' + str(RODADA) + '.csv'\n",
        "  recomendacoes_p1.to_csv(nomearquivo)\n",
        "\n",
        "  # Calcula medidas da rodada\n",
        "  [qtde_recom_total, qtde_recom_unicas, \n",
        "   qtde_recom_diferentes, qtde_recom_diferentes_unicas, \n",
        "   qtde_acertos, qtde_acertos_unicos, \n",
        "   qtde_recom_diferentes_e_acertos, qtde_recom_diferentes_e_acertos_unicas] = calcula_medidas_rodada(recomendacoes_p1)\n",
        "\n",
        "  # Adiciona uma linha no dataframe de resultados, com os resultados daquela rodada\n",
        "  medidasResultado = medidasResultado.append(pd.Series(\n",
        "                                                        ['Portfolio 1',\n",
        "                                                        len(p1),\n",
        "                                                        QTDE_VIZINHOS,\n",
        "                                                        TAM_AMOSTRA,\n",
        "                                                        RODADA,\n",
        "                                                        qtde_recom_total,\n",
        "                                                        qtde_recom_unicas,\n",
        "                                                        qtde_recom_diferentes,\n",
        "                                                        qtde_recom_diferentes_unicas,\n",
        "                                                        qtde_acertos,\n",
        "                                                        qtde_acertos_unicos,\n",
        "                                                        qtde_recom_diferentes_e_acertos,\n",
        "                                                        qtde_recom_diferentes_e_acertos_unicas\n",
        "                                                        ],\n",
        "                                                        index = medidasResultado.columns\n",
        "                                                        ), ignore_index=True)"
      ],
      "execution_count": 0,
      "outputs": []
    },
    {
      "cell_type": "code",
      "metadata": {
        "colab_type": "code",
        "id": "wUCG7DojAU9Y",
        "colab": {}
      },
      "source": [
        "# Exporta matriz de resultados de todas as rodadas\n",
        "nomearquivo = 'resumo_rodadas_p1.csv'\n",
        "medidasResultado.to_csv(nomearquivo)"
      ],
      "execution_count": 0,
      "outputs": []
    },
    {
      "cell_type": "code",
      "metadata": {
        "colab_type": "code",
        "id": "abOaUmzdAU9a",
        "colab": {}
      },
      "source": [
        "medidasResultado.tail(10)"
      ],
      "execution_count": 0,
      "outputs": []
    }
  ]
}
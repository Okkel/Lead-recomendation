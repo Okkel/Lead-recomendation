{
 "cells": [
  {
   "cell_type": "code",
   "execution_count": 3,
   "metadata": {},
   "outputs": [],
   "source": [
    "import pandas as pd\n",
    "import numpy as np\n",
    "import matplotlib.pyplot as plt\n",
    "import seaborn as sns"
   ]
  },
  {
   "cell_type": "code",
   "execution_count": 4,
   "metadata": {
    "scrolled": true
   },
   "outputs": [],
   "source": [
    "df = pd.read_csv(\"../src/estaticos_portfolio1.csv\")\n",
    "df = df.drop(['Unnamed: 0'], axis=1)"
   ]
  },
  {
   "cell_type": "code",
   "execution_count": 5,
   "metadata": {},
   "outputs": [
    {
     "data": {
      "text/html": [
       "<div>\n",
       "<style scoped>\n",
       "    .dataframe tbody tr th:only-of-type {\n",
       "        vertical-align: middle;\n",
       "    }\n",
       "\n",
       "    .dataframe tbody tr th {\n",
       "        vertical-align: top;\n",
       "    }\n",
       "\n",
       "    .dataframe thead th {\n",
       "        text-align: right;\n",
       "    }\n",
       "</style>\n",
       "<table border=\"1\" class=\"dataframe\">\n",
       "  <thead>\n",
       "    <tr style=\"text-align: right;\">\n",
       "      <th></th>\n",
       "      <th>id</th>\n",
       "      <th>fl_matriz</th>\n",
       "      <th>de_natureza_juridica</th>\n",
       "      <th>sg_uf</th>\n",
       "      <th>natureza_juridica_macro</th>\n",
       "      <th>de_ramo</th>\n",
       "      <th>setor</th>\n",
       "      <th>idade_empresa_anos</th>\n",
       "      <th>idade_emp_cat</th>\n",
       "      <th>fl_me</th>\n",
       "      <th>...</th>\n",
       "      <th>media_meses_servicos</th>\n",
       "      <th>max_meses_servicos</th>\n",
       "      <th>min_meses_servicos</th>\n",
       "      <th>qt_funcionarios</th>\n",
       "      <th>qt_funcionarios_12meses</th>\n",
       "      <th>qt_funcionarios_24meses</th>\n",
       "      <th>tx_crescimento_12meses</th>\n",
       "      <th>tx_crescimento_24meses</th>\n",
       "      <th>tx_rotatividade</th>\n",
       "      <th>qt_filiais</th>\n",
       "    </tr>\n",
       "  </thead>\n",
       "  <tbody>\n",
       "    <tr>\n",
       "      <td>0</td>\n",
       "      <td>dabe79bec87c88ae04e869bf6bd321ee5e1893cecf6625...</td>\n",
       "      <td>True</td>\n",
       "      <td>EMPRESARIO INDIVIDUAL</td>\n",
       "      <td>PI</td>\n",
       "      <td>OUTROS</td>\n",
       "      <td>COMERCIO VAREJISTA</td>\n",
       "      <td>COMERCIO</td>\n",
       "      <td>0.646575</td>\n",
       "      <td>&lt;= 1</td>\n",
       "      <td>False</td>\n",
       "      <td>...</td>\n",
       "      <td>NaN</td>\n",
       "      <td>NaN</td>\n",
       "      <td>NaN</td>\n",
       "      <td>NaN</td>\n",
       "      <td>NaN</td>\n",
       "      <td>NaN</td>\n",
       "      <td>NaN</td>\n",
       "      <td>NaN</td>\n",
       "      <td>NaN</td>\n",
       "      <td>0</td>\n",
       "    </tr>\n",
       "    <tr>\n",
       "      <td>1</td>\n",
       "      <td>32e5f4e10932153a7ba869cb0386e7e02d49d2461046b8...</td>\n",
       "      <td>False</td>\n",
       "      <td>EMPRESARIO INDIVIDUAL</td>\n",
       "      <td>MA</td>\n",
       "      <td>OUTROS</td>\n",
       "      <td>COMERCIO VAREJISTA</td>\n",
       "      <td>COMERCIO</td>\n",
       "      <td>6.586301</td>\n",
       "      <td>5 a 10</td>\n",
       "      <td>False</td>\n",
       "      <td>...</td>\n",
       "      <td>NaN</td>\n",
       "      <td>NaN</td>\n",
       "      <td>NaN</td>\n",
       "      <td>0.0</td>\n",
       "      <td>0.0</td>\n",
       "      <td>2.0</td>\n",
       "      <td>NaN</td>\n",
       "      <td>-100.0</td>\n",
       "      <td>0.0</td>\n",
       "      <td>4</td>\n",
       "    </tr>\n",
       "    <tr>\n",
       "      <td>2</td>\n",
       "      <td>a95d6f30bba445bd3d6b0c5b36f865b38ec01d17336090...</td>\n",
       "      <td>True</td>\n",
       "      <td>EMPRESARIO INDIVIDUAL</td>\n",
       "      <td>MA</td>\n",
       "      <td>OUTROS</td>\n",
       "      <td>COMERCIO VAREJISTA</td>\n",
       "      <td>COMERCIO</td>\n",
       "      <td>8.010959</td>\n",
       "      <td>5 a 10</td>\n",
       "      <td>False</td>\n",
       "      <td>...</td>\n",
       "      <td>NaN</td>\n",
       "      <td>NaN</td>\n",
       "      <td>NaN</td>\n",
       "      <td>NaN</td>\n",
       "      <td>NaN</td>\n",
       "      <td>NaN</td>\n",
       "      <td>NaN</td>\n",
       "      <td>NaN</td>\n",
       "      <td>NaN</td>\n",
       "      <td>0</td>\n",
       "    </tr>\n",
       "    <tr>\n",
       "      <td>3</td>\n",
       "      <td>6cb309685cea0b6d2988818792ec2e6fcb2bd02e0afa9e...</td>\n",
       "      <td>True</td>\n",
       "      <td>EMPRESARIO INDIVIDUAL</td>\n",
       "      <td>RN</td>\n",
       "      <td>OUTROS</td>\n",
       "      <td>COMERCIO VAREJISTA</td>\n",
       "      <td>COMERCIO</td>\n",
       "      <td>20.863014</td>\n",
       "      <td>&gt; 20</td>\n",
       "      <td>False</td>\n",
       "      <td>...</td>\n",
       "      <td>NaN</td>\n",
       "      <td>NaN</td>\n",
       "      <td>NaN</td>\n",
       "      <td>NaN</td>\n",
       "      <td>NaN</td>\n",
       "      <td>NaN</td>\n",
       "      <td>NaN</td>\n",
       "      <td>NaN</td>\n",
       "      <td>NaN</td>\n",
       "      <td>0</td>\n",
       "    </tr>\n",
       "    <tr>\n",
       "      <td>4</td>\n",
       "      <td>f72aa7fa6787b0a5a1c88885b6120850df8ee0f71adc25...</td>\n",
       "      <td>True</td>\n",
       "      <td>SOCIEDADE EMPRESARIA LIMITADA</td>\n",
       "      <td>RN</td>\n",
       "      <td>ENTIDADES EMPRESARIAIS</td>\n",
       "      <td>COMERCIO VAREJISTA</td>\n",
       "      <td>COMERCIO</td>\n",
       "      <td>18.726027</td>\n",
       "      <td>15 a 20</td>\n",
       "      <td>False</td>\n",
       "      <td>...</td>\n",
       "      <td>39.454762</td>\n",
       "      <td>91.2</td>\n",
       "      <td>19.333333</td>\n",
       "      <td>14.0</td>\n",
       "      <td>15.0</td>\n",
       "      <td>25.0</td>\n",
       "      <td>-6.666667</td>\n",
       "      <td>-44.0</td>\n",
       "      <td>0.0</td>\n",
       "      <td>3</td>\n",
       "    </tr>\n",
       "  </tbody>\n",
       "</table>\n",
       "<p>5 rows × 181 columns</p>\n",
       "</div>"
      ],
      "text/plain": [
       "                                                  id  fl_matriz  \\\n",
       "0  dabe79bec87c88ae04e869bf6bd321ee5e1893cecf6625...       True   \n",
       "1  32e5f4e10932153a7ba869cb0386e7e02d49d2461046b8...      False   \n",
       "2  a95d6f30bba445bd3d6b0c5b36f865b38ec01d17336090...       True   \n",
       "3  6cb309685cea0b6d2988818792ec2e6fcb2bd02e0afa9e...       True   \n",
       "4  f72aa7fa6787b0a5a1c88885b6120850df8ee0f71adc25...       True   \n",
       "\n",
       "            de_natureza_juridica sg_uf natureza_juridica_macro  \\\n",
       "0          EMPRESARIO INDIVIDUAL    PI                  OUTROS   \n",
       "1          EMPRESARIO INDIVIDUAL    MA                  OUTROS   \n",
       "2          EMPRESARIO INDIVIDUAL    MA                  OUTROS   \n",
       "3          EMPRESARIO INDIVIDUAL    RN                  OUTROS   \n",
       "4  SOCIEDADE EMPRESARIA LIMITADA    RN  ENTIDADES EMPRESARIAIS   \n",
       "\n",
       "              de_ramo     setor  idade_empresa_anos idade_emp_cat  fl_me  ...  \\\n",
       "0  COMERCIO VAREJISTA  COMERCIO            0.646575          <= 1  False  ...   \n",
       "1  COMERCIO VAREJISTA  COMERCIO            6.586301        5 a 10  False  ...   \n",
       "2  COMERCIO VAREJISTA  COMERCIO            8.010959        5 a 10  False  ...   \n",
       "3  COMERCIO VAREJISTA  COMERCIO           20.863014          > 20  False  ...   \n",
       "4  COMERCIO VAREJISTA  COMERCIO           18.726027       15 a 20  False  ...   \n",
       "\n",
       "   media_meses_servicos  max_meses_servicos  min_meses_servicos  \\\n",
       "0                   NaN                 NaN                 NaN   \n",
       "1                   NaN                 NaN                 NaN   \n",
       "2                   NaN                 NaN                 NaN   \n",
       "3                   NaN                 NaN                 NaN   \n",
       "4             39.454762                91.2           19.333333   \n",
       "\n",
       "   qt_funcionarios qt_funcionarios_12meses  qt_funcionarios_24meses  \\\n",
       "0              NaN                     NaN                      NaN   \n",
       "1              0.0                     0.0                      2.0   \n",
       "2              NaN                     NaN                      NaN   \n",
       "3              NaN                     NaN                      NaN   \n",
       "4             14.0                    15.0                     25.0   \n",
       "\n",
       "   tx_crescimento_12meses  tx_crescimento_24meses tx_rotatividade qt_filiais  \n",
       "0                     NaN                     NaN             NaN          0  \n",
       "1                     NaN                  -100.0             0.0          4  \n",
       "2                     NaN                     NaN             NaN          0  \n",
       "3                     NaN                     NaN             NaN          0  \n",
       "4               -6.666667                   -44.0             0.0          3  \n",
       "\n",
       "[5 rows x 181 columns]"
      ]
     },
     "execution_count": 5,
     "metadata": {},
     "output_type": "execute_result"
    }
   ],
   "source": [
    "df.head()"
   ]
  },
  {
   "cell_type": "code",
   "execution_count": 6,
   "metadata": {},
   "outputs": [],
   "source": [
    "a = df.isna().sum().to_frame(\"faltantes\").join(\n",
    "df.isnull().sum().to_frame('%')*100/len(df)).round(2)"
   ]
  },
  {
   "cell_type": "code",
   "execution_count": 7,
   "metadata": {},
   "outputs": [
    {
     "name": "stdout",
     "output_type": "stream",
     "text": [
      "                                               faltantes       %\n",
      "vl_total_veiculos_antt_grupo                         555  100.00\n",
      "idade_media_coligadas_baixadas                       555  100.00\n",
      "vl_total_tancagem_grupo                              555  100.00\n",
      "coligada_mais_antiga_baixada                         555  100.00\n",
      "coligada_mais_nova_baixada                           555  100.00\n",
      "qt_alteracao_socio_total                             555  100.00\n",
      "qt_alteracao_socio_90d                               555  100.00\n",
      "vl_total_veiculos_antt                               555  100.00\n",
      "vl_total_tancagem                                    555  100.00\n",
      "qt_alteracao_socio_180d                              555  100.00\n",
      "grau_instrucao_macro_desconhecido                    555  100.00\n",
      "qt_alteracao_socio_365d                              555  100.00\n",
      "grau_instrucao_macro_analfabeto                      554   99.82\n",
      "qt_socios_pj_baixados                                553   99.64\n",
      "qt_socios_pj_ativos                                  553   99.64\n",
      "qt_socios_pj_nulos                                   553   99.64\n",
      "vl_idade_media_socios_pj                             553   99.64\n",
      "qt_socios_pj_suspensos                               553   99.64\n",
      "qt_socios_pj_inaptos                                 553   99.64\n",
      "vl_idade_maxima_socios_pj                            553   99.64\n",
      "vl_idade_minima_socios_pj                            553   99.64\n",
      "vl_potenc_cons_oleo_gas                              552   99.46\n",
      "qt_socios_pep                                        551   99.28\n",
      "idade_ate_18                                         551   99.28\n",
      "qt_art                                               551   99.28\n",
      "qt_socios_st_suspensa                                548   98.74\n",
      "idade_de_54_a_58                                     541   97.48\n",
      "idade_acima_de_58                                    540   97.30\n",
      "total_filiais_coligados                              540   97.30\n",
      "min_filiais_coligados                                540   97.30\n",
      "max_filiais_coligados                                540   97.30\n",
      "media_filiais_coligados                              540   97.30\n",
      "idade_de_44_a_48                                     534   96.22\n",
      "idade_de_49_a_53                                     533   96.04\n",
      "grau_instrucao_macro_escolaridade_superior           532   95.86\n",
      "grau_instrucao_macro_escolaridade_fundamental        530   95.50\n",
      "vl_frota                                             524   94.41\n",
      "idade_de_39_a_43                                     523   94.23\n",
      "idade_de_19_a_23                                     522   94.05\n",
      "vl_folha_coligados                                   518   93.33\n",
      "media_vl_folha_coligados                             518   93.33\n",
      "max_vl_folha_coligados                               518   93.33\n",
      "vl_folha_coligados_gp                                518   93.33\n",
      "min_vl_folha_coligados                               518   93.33\n",
      "media_vl_folha_coligados_gp                          518   93.33\n",
      "max_vl_folha_coligados_gp                            518   93.33\n",
      "min_vl_folha_coligados_gp                            518   93.33\n",
      "vl_total_veiculos_pesados                            517   93.15\n",
      "vl_total_veiculos_leves                              517   93.15\n",
      "idade_de_34_a_38                                     513   92.43\n",
      "idade_de_29_a_33                                     512   92.25\n",
      "idade_de_24_a_28                                     509   91.71\n",
      "min_funcionarios_coligados_gp                        509   91.71\n",
      "max_funcionarios_coligados_gp                        509   91.71\n",
      "media_funcionarios_coligados_gp                      509   91.71\n",
      "qt_funcionarios_coligados_gp                         509   91.71\n",
      "qt_funcionarios_coligados                            509   91.71\n",
      "sum_faturamento_estimado_coligadas                   506   91.17\n",
      "qt_coligadas                                         505   90.99\n",
      "de_indicador_telefone                                501   90.27\n",
      "max_faturamento_est_coligados                        493   88.83\n",
      "faturamento_est_coligados                            493   88.83\n",
      "min_faturamento_est_coligados                        493   88.83\n",
      "coligada_mais_nova_ativa                             493   88.83\n",
      "coligada_mais_antiga_ativa                           493   88.83\n",
      "idade_media_coligadas_ativas                         493   88.83\n",
      "media_faturamento_est_coligados                      493   88.83\n",
      "min_faturamento_est_coligados_gp                     493   88.83\n",
      "max_faturamento_est_coligados_gp                     493   88.83\n",
      "media_faturamento_est_coligados_gp                   493   88.83\n",
      "faturamento_est_coligados_gp                         493   88.83\n",
      "qt_coligados_sul                                     492   88.65\n",
      "qt_coligados_norte                                   492   88.65\n",
      "qt_coligados_exterior                                492   88.65\n",
      "qt_coligados_ccivil                                  492   88.65\n",
      "qt_coligados_nordeste                                492   88.65\n",
      "qt_coligados_centro                                  492   88.65\n",
      "qt_coligados_sudeste                                 492   88.65\n",
      "qt_coligados_serviço                                 492   88.65\n",
      "qt_ufs_coligados                                     492   88.65\n",
      "qt_regioes_coligados                                 492   88.65\n",
      "qt_ramos_coligados                                   492   88.65\n",
      "qt_coligados_industria                               492   88.65\n",
      "qt_coligados_agropecuaria                            492   88.65\n",
      "qt_coligados_comercio                                492   88.65\n",
      "qt_coligados_atividade_inativo                       492   88.65\n",
      "qt_coligados_atividade_mt_baixo                      492   88.65\n",
      "qt_coligados_atividade_baixo                         492   88.65\n",
      "qt_coligados_epp                                     492   88.65\n",
      "qt_coligados_atividade_alto                          492   88.65\n",
      "qt_coligados_atividade_medio                         492   88.65\n",
      "qt_coligados_mei                                     492   88.65\n",
      "qt_coligados_ltda                                    492   88.65\n",
      "qt_coligados_inapta                                  492   88.65\n",
      "qt_coligados_me                                      492   88.65\n",
      "qt_coligados                                         492   88.65\n",
      "qt_socios_coligados                                  492   88.65\n",
      "qt_coligados_matriz                                  492   88.65\n",
      "qt_coligados_ativo                                   492   88.65\n",
      "qt_coligados_baixada                                 492   88.65\n",
      "qt_coligados_suspensa                                492   88.65\n",
      "idade_minima_coligadas                               492   88.65\n",
      "qt_coligados_sa                                      492   88.65\n",
      "qt_coligados_nula                                    492   88.65\n",
      "idade_maxima_coligadas                               492   88.65\n",
      "idade_media_coligadas                                492   88.65\n",
      "grau_instrucao_macro_escolaridade_media              469   84.50\n",
      "tx_crescimento_24meses                               464   83.60\n",
      "tx_crescimento_12meses                               458   82.52\n",
      "max_meses_servicos                                   454   81.80\n",
      "total                                                454   81.80\n",
      "media_meses_servicos                                 454   81.80\n",
      "percent_func_genero_masc                             454   81.80\n",
      "percent_func_genero_fem                              454   81.80\n",
      "min_meses_servicos                                   454   81.80\n",
      "qt_funcionarios                                      424   76.40\n",
      "qt_admitidos_12meses                                 424   76.40\n",
      "qt_funcionarios_12meses                              424   76.40\n",
      "tx_rotatividade                                      424   76.40\n",
      "min_meses_servicos_all                               424   76.40\n",
      "max_meses_servicos_all                               424   76.40\n",
      "media_meses_servicos_all                             424   76.40\n",
      "qt_admitidos                                         424   76.40\n",
      "qt_desligados                                        424   76.40\n",
      "qt_funcionarios_24meses                              424   76.40\n",
      "qt_desligados_12meses                                424   76.40\n",
      "meses_ultima_contratacaco                            424   76.40\n",
      "qt_ex_funcionarios                                   409   73.69\n",
      "qt_funcionarios_grupo                                409   73.69\n",
      "qt_socios_feminino                                   365   65.77\n",
      "qt_socios_masculino                                  357   64.32\n",
      "qt_socios_st_regular                                 195   35.14\n",
      "idade_minima_socios                                  193   34.77\n",
      "idade_maxima_socios                                  193   34.77\n",
      "idade_media_socios                                   193   34.77\n",
      "empsetorcensitariofaixarendapopulacao                150   27.03\n",
      "qt_socios                                            147   26.49\n",
      "qt_socios_pf                                         147   26.49\n",
      "qt_socios_pj                                         147   26.49\n",
      "fl_optante_simples                                   101   18.20\n",
      "fl_optante_simei                                     101   18.20\n",
      "nm_micro_regiao                                       64   11.53\n",
      "nm_meso_regiao                                        64   11.53\n",
      "nu_meses_rescencia                                    47    8.47\n",
      "vl_faturamento_estimado_aux                           25    4.50\n",
      "vl_faturamento_estimado_grupo_aux                     25    4.50\n",
      "de_faixa_faturamento_estimado_grupo                   25    4.50\n",
      "de_faixa_faturamento_estimado                         25    4.50\n",
      "de_saude_tributaria                                   11    1.98\n",
      "de_saude_rescencia                                    11    1.98\n",
      "de_nivel_atividade                                     4    0.72\n",
      "id                                                     0    0.00\n",
      "fl_matriz                                              0    0.00\n",
      "dt_situacao                                            0    0.00\n",
      "de_natureza_juridica                                   0    0.00\n",
      "sg_uf                                                  0    0.00\n",
      "natureza_juridica_macro                                0    0.00\n",
      "de_ramo                                                0    0.00\n",
      "setor                                                  0    0.00\n",
      "idade_empresa_anos                                     0    0.00\n",
      "idade_emp_cat                                          0    0.00\n",
      "fl_me                                                  0    0.00\n",
      "fl_sa                                                  0    0.00\n",
      "fl_epp                                                 0    0.00\n",
      "fl_mei                                                 0    0.00\n",
      "fl_ltda                                                0    0.00\n",
      "fl_st_especial                                         0    0.00\n",
      "fl_passivel_iss                                        0    0.00\n",
      "fl_email                                               0    0.00\n",
      "fl_telefone                                            0    0.00\n",
      "fl_rm                                                  0    0.00\n",
      "nm_divisao                                             0    0.00\n",
      "nm_segmento                                            0    0.00\n",
      "fl_spa                                                 0    0.00\n",
      "fl_antt                                                0    0.00\n",
      "fl_veiculo                                             0    0.00\n",
      "vl_total_veiculos_pesados_grupo                        0    0.00\n",
      "vl_total_veiculos_leves_grupo                          0    0.00\n",
      "sg_uf_matriz                                           0    0.00\n",
      "fl_simples_irregular                                   0    0.00\n",
      "qt_filiais                                             0    0.00\n"
     ]
    }
   ],
   "source": [
    "a = a.sort_values(by=['faltantes'],ascending = False)\n",
    "print(a.to_string())"
   ]
  },
  {
   "cell_type": "code",
   "execution_count": 8,
   "metadata": {},
   "outputs": [
    {
     "data": {
      "text/html": [
       "<div>\n",
       "<style scoped>\n",
       "    .dataframe tbody tr th:only-of-type {\n",
       "        vertical-align: middle;\n",
       "    }\n",
       "\n",
       "    .dataframe tbody tr th {\n",
       "        vertical-align: top;\n",
       "    }\n",
       "\n",
       "    .dataframe thead th {\n",
       "        text-align: right;\n",
       "    }\n",
       "</style>\n",
       "<table border=\"1\" class=\"dataframe\">\n",
       "  <thead>\n",
       "    <tr style=\"text-align: right;\">\n",
       "      <th></th>\n",
       "      <th>faltantes</th>\n",
       "      <th>%</th>\n",
       "    </tr>\n",
       "  </thead>\n",
       "  <tbody>\n",
       "    <tr>\n",
       "      <td>nu_meses_rescencia</td>\n",
       "      <td>47</td>\n",
       "      <td>8.47</td>\n",
       "    </tr>\n",
       "    <tr>\n",
       "      <td>vl_faturamento_estimado_aux</td>\n",
       "      <td>25</td>\n",
       "      <td>4.50</td>\n",
       "    </tr>\n",
       "    <tr>\n",
       "      <td>vl_faturamento_estimado_grupo_aux</td>\n",
       "      <td>25</td>\n",
       "      <td>4.50</td>\n",
       "    </tr>\n",
       "    <tr>\n",
       "      <td>de_faixa_faturamento_estimado_grupo</td>\n",
       "      <td>25</td>\n",
       "      <td>4.50</td>\n",
       "    </tr>\n",
       "    <tr>\n",
       "      <td>de_faixa_faturamento_estimado</td>\n",
       "      <td>25</td>\n",
       "      <td>4.50</td>\n",
       "    </tr>\n",
       "    <tr>\n",
       "      <td>de_saude_tributaria</td>\n",
       "      <td>11</td>\n",
       "      <td>1.98</td>\n",
       "    </tr>\n",
       "    <tr>\n",
       "      <td>de_saude_rescencia</td>\n",
       "      <td>11</td>\n",
       "      <td>1.98</td>\n",
       "    </tr>\n",
       "    <tr>\n",
       "      <td>de_nivel_atividade</td>\n",
       "      <td>4</td>\n",
       "      <td>0.72</td>\n",
       "    </tr>\n",
       "    <tr>\n",
       "      <td>id</td>\n",
       "      <td>0</td>\n",
       "      <td>0.00</td>\n",
       "    </tr>\n",
       "    <tr>\n",
       "      <td>fl_matriz</td>\n",
       "      <td>0</td>\n",
       "      <td>0.00</td>\n",
       "    </tr>\n",
       "    <tr>\n",
       "      <td>dt_situacao</td>\n",
       "      <td>0</td>\n",
       "      <td>0.00</td>\n",
       "    </tr>\n",
       "    <tr>\n",
       "      <td>de_natureza_juridica</td>\n",
       "      <td>0</td>\n",
       "      <td>0.00</td>\n",
       "    </tr>\n",
       "    <tr>\n",
       "      <td>sg_uf</td>\n",
       "      <td>0</td>\n",
       "      <td>0.00</td>\n",
       "    </tr>\n",
       "    <tr>\n",
       "      <td>natureza_juridica_macro</td>\n",
       "      <td>0</td>\n",
       "      <td>0.00</td>\n",
       "    </tr>\n",
       "    <tr>\n",
       "      <td>de_ramo</td>\n",
       "      <td>0</td>\n",
       "      <td>0.00</td>\n",
       "    </tr>\n",
       "    <tr>\n",
       "      <td>setor</td>\n",
       "      <td>0</td>\n",
       "      <td>0.00</td>\n",
       "    </tr>\n",
       "    <tr>\n",
       "      <td>idade_empresa_anos</td>\n",
       "      <td>0</td>\n",
       "      <td>0.00</td>\n",
       "    </tr>\n",
       "    <tr>\n",
       "      <td>idade_emp_cat</td>\n",
       "      <td>0</td>\n",
       "      <td>0.00</td>\n",
       "    </tr>\n",
       "    <tr>\n",
       "      <td>fl_me</td>\n",
       "      <td>0</td>\n",
       "      <td>0.00</td>\n",
       "    </tr>\n",
       "    <tr>\n",
       "      <td>fl_sa</td>\n",
       "      <td>0</td>\n",
       "      <td>0.00</td>\n",
       "    </tr>\n",
       "    <tr>\n",
       "      <td>fl_epp</td>\n",
       "      <td>0</td>\n",
       "      <td>0.00</td>\n",
       "    </tr>\n",
       "    <tr>\n",
       "      <td>fl_mei</td>\n",
       "      <td>0</td>\n",
       "      <td>0.00</td>\n",
       "    </tr>\n",
       "    <tr>\n",
       "      <td>fl_ltda</td>\n",
       "      <td>0</td>\n",
       "      <td>0.00</td>\n",
       "    </tr>\n",
       "    <tr>\n",
       "      <td>fl_st_especial</td>\n",
       "      <td>0</td>\n",
       "      <td>0.00</td>\n",
       "    </tr>\n",
       "    <tr>\n",
       "      <td>fl_passivel_iss</td>\n",
       "      <td>0</td>\n",
       "      <td>0.00</td>\n",
       "    </tr>\n",
       "    <tr>\n",
       "      <td>fl_email</td>\n",
       "      <td>0</td>\n",
       "      <td>0.00</td>\n",
       "    </tr>\n",
       "    <tr>\n",
       "      <td>fl_telefone</td>\n",
       "      <td>0</td>\n",
       "      <td>0.00</td>\n",
       "    </tr>\n",
       "    <tr>\n",
       "      <td>fl_rm</td>\n",
       "      <td>0</td>\n",
       "      <td>0.00</td>\n",
       "    </tr>\n",
       "    <tr>\n",
       "      <td>nm_divisao</td>\n",
       "      <td>0</td>\n",
       "      <td>0.00</td>\n",
       "    </tr>\n",
       "    <tr>\n",
       "      <td>nm_segmento</td>\n",
       "      <td>0</td>\n",
       "      <td>0.00</td>\n",
       "    </tr>\n",
       "    <tr>\n",
       "      <td>fl_spa</td>\n",
       "      <td>0</td>\n",
       "      <td>0.00</td>\n",
       "    </tr>\n",
       "    <tr>\n",
       "      <td>fl_antt</td>\n",
       "      <td>0</td>\n",
       "      <td>0.00</td>\n",
       "    </tr>\n",
       "    <tr>\n",
       "      <td>fl_veiculo</td>\n",
       "      <td>0</td>\n",
       "      <td>0.00</td>\n",
       "    </tr>\n",
       "    <tr>\n",
       "      <td>vl_total_veiculos_pesados_grupo</td>\n",
       "      <td>0</td>\n",
       "      <td>0.00</td>\n",
       "    </tr>\n",
       "    <tr>\n",
       "      <td>vl_total_veiculos_leves_grupo</td>\n",
       "      <td>0</td>\n",
       "      <td>0.00</td>\n",
       "    </tr>\n",
       "    <tr>\n",
       "      <td>sg_uf_matriz</td>\n",
       "      <td>0</td>\n",
       "      <td>0.00</td>\n",
       "    </tr>\n",
       "    <tr>\n",
       "      <td>fl_simples_irregular</td>\n",
       "      <td>0</td>\n",
       "      <td>0.00</td>\n",
       "    </tr>\n",
       "    <tr>\n",
       "      <td>qt_filiais</td>\n",
       "      <td>0</td>\n",
       "      <td>0.00</td>\n",
       "    </tr>\n",
       "  </tbody>\n",
       "</table>\n",
       "</div>"
      ],
      "text/plain": [
       "                                     faltantes     %\n",
       "nu_meses_rescencia                          47  8.47\n",
       "vl_faturamento_estimado_aux                 25  4.50\n",
       "vl_faturamento_estimado_grupo_aux           25  4.50\n",
       "de_faixa_faturamento_estimado_grupo         25  4.50\n",
       "de_faixa_faturamento_estimado               25  4.50\n",
       "de_saude_tributaria                         11  1.98\n",
       "de_saude_rescencia                          11  1.98\n",
       "de_nivel_atividade                           4  0.72\n",
       "id                                           0  0.00\n",
       "fl_matriz                                    0  0.00\n",
       "dt_situacao                                  0  0.00\n",
       "de_natureza_juridica                         0  0.00\n",
       "sg_uf                                        0  0.00\n",
       "natureza_juridica_macro                      0  0.00\n",
       "de_ramo                                      0  0.00\n",
       "setor                                        0  0.00\n",
       "idade_empresa_anos                           0  0.00\n",
       "idade_emp_cat                                0  0.00\n",
       "fl_me                                        0  0.00\n",
       "fl_sa                                        0  0.00\n",
       "fl_epp                                       0  0.00\n",
       "fl_mei                                       0  0.00\n",
       "fl_ltda                                      0  0.00\n",
       "fl_st_especial                               0  0.00\n",
       "fl_passivel_iss                              0  0.00\n",
       "fl_email                                     0  0.00\n",
       "fl_telefone                                  0  0.00\n",
       "fl_rm                                        0  0.00\n",
       "nm_divisao                                   0  0.00\n",
       "nm_segmento                                  0  0.00\n",
       "fl_spa                                       0  0.00\n",
       "fl_antt                                      0  0.00\n",
       "fl_veiculo                                   0  0.00\n",
       "vl_total_veiculos_pesados_grupo              0  0.00\n",
       "vl_total_veiculos_leves_grupo                0  0.00\n",
       "sg_uf_matriz                                 0  0.00\n",
       "fl_simples_irregular                         0  0.00\n",
       "qt_filiais                                   0  0.00"
      ]
     },
     "execution_count": 8,
     "metadata": {},
     "output_type": "execute_result"
    }
   ],
   "source": [
    "a[a['%']<11.5]"
   ]
  },
  {
   "cell_type": "code",
   "execution_count": 9,
   "metadata": {},
   "outputs": [],
   "source": [
    "dfb = a[a['%']<12.7].index.values.astype(str)\n",
    "# corte da base para usar apenas features com 10% ou menos de dados faltantes. De acordo com o Tulio é muito dificil\n",
    "# trabalhar com mais que isso . Pois imputar dado é muito é muito dificil/ pode causar grandes problemas"
   ]
  },
  {
   "cell_type": "code",
   "execution_count": 10,
   "metadata": {},
   "outputs": [
    {
     "data": {
      "text/plain": [
       "array(['nm_micro_regiao', 'nm_meso_regiao', 'nu_meses_rescencia',\n",
       "       'vl_faturamento_estimado_aux', 'vl_faturamento_estimado_grupo_aux',\n",
       "       'de_faixa_faturamento_estimado_grupo',\n",
       "       'de_faixa_faturamento_estimado', 'de_saude_tributaria',\n",
       "       'de_saude_rescencia', 'de_nivel_atividade', 'id', 'fl_matriz',\n",
       "       'dt_situacao', 'de_natureza_juridica', 'sg_uf',\n",
       "       'natureza_juridica_macro', 'de_ramo', 'setor',\n",
       "       'idade_empresa_anos', 'idade_emp_cat', 'fl_me', 'fl_sa', 'fl_epp',\n",
       "       'fl_mei', 'fl_ltda', 'fl_st_especial', 'fl_passivel_iss',\n",
       "       'fl_email', 'fl_telefone', 'fl_rm', 'nm_divisao', 'nm_segmento',\n",
       "       'fl_spa', 'fl_antt', 'fl_veiculo',\n",
       "       'vl_total_veiculos_pesados_grupo', 'vl_total_veiculos_leves_grupo',\n",
       "       'sg_uf_matriz', 'fl_simples_irregular', 'qt_filiais', 'id'],\n",
       "      dtype='<U35')"
      ]
     },
     "execution_count": 10,
     "metadata": {},
     "output_type": "execute_result"
    }
   ],
   "source": [
    "dfb = np.append (dfb, ['id'])\n",
    "dfb\n",
    "# lista de features que serao usadas"
   ]
  },
  {
   "cell_type": "code",
   "execution_count": 11,
   "metadata": {},
   "outputs": [],
   "source": [
    "dfAlterado = df[dfb]"
   ]
  },
  {
   "cell_type": "code",
   "execution_count": 12,
   "metadata": {},
   "outputs": [
    {
     "data": {
      "text/html": [
       "<div>\n",
       "<style scoped>\n",
       "    .dataframe tbody tr th:only-of-type {\n",
       "        vertical-align: middle;\n",
       "    }\n",
       "\n",
       "    .dataframe tbody tr th {\n",
       "        vertical-align: top;\n",
       "    }\n",
       "\n",
       "    .dataframe thead th {\n",
       "        text-align: right;\n",
       "    }\n",
       "</style>\n",
       "<table border=\"1\" class=\"dataframe\">\n",
       "  <thead>\n",
       "    <tr style=\"text-align: right;\">\n",
       "      <th></th>\n",
       "      <th>nm_micro_regiao</th>\n",
       "      <th>nm_meso_regiao</th>\n",
       "      <th>nu_meses_rescencia</th>\n",
       "      <th>vl_faturamento_estimado_aux</th>\n",
       "      <th>vl_faturamento_estimado_grupo_aux</th>\n",
       "      <th>de_faixa_faturamento_estimado_grupo</th>\n",
       "      <th>de_faixa_faturamento_estimado</th>\n",
       "      <th>de_saude_tributaria</th>\n",
       "      <th>de_saude_rescencia</th>\n",
       "      <th>de_nivel_atividade</th>\n",
       "      <th>...</th>\n",
       "      <th>nm_segmento</th>\n",
       "      <th>fl_spa</th>\n",
       "      <th>fl_antt</th>\n",
       "      <th>fl_veiculo</th>\n",
       "      <th>vl_total_veiculos_pesados_grupo</th>\n",
       "      <th>vl_total_veiculos_leves_grupo</th>\n",
       "      <th>sg_uf_matriz</th>\n",
       "      <th>fl_simples_irregular</th>\n",
       "      <th>qt_filiais</th>\n",
       "      <th>id</th>\n",
       "    </tr>\n",
       "  </thead>\n",
       "  <tbody>\n",
       "    <tr>\n",
       "      <td>0</td>\n",
       "      <td>SAO RAIMUNDO NONATO</td>\n",
       "      <td>SUDOESTE PIAUIENSE</td>\n",
       "      <td>NaN</td>\n",
       "      <td>210000.0</td>\n",
       "      <td>210000.0</td>\n",
       "      <td>DE R$ 81.000,01 A R$ 360.000,00</td>\n",
       "      <td>DE R$ 81.000,01 A R$ 360.000,00</td>\n",
       "      <td>CINZA</td>\n",
       "      <td>SEM INFORMACAO</td>\n",
       "      <td>BAIXA</td>\n",
       "      <td>...</td>\n",
       "      <td>COMERCIO; REPARACAO DE VEICULOS AUTOMOTORES E ...</td>\n",
       "      <td>False</td>\n",
       "      <td>False</td>\n",
       "      <td>False</td>\n",
       "      <td>0</td>\n",
       "      <td>0</td>\n",
       "      <td>PI</td>\n",
       "      <td>False</td>\n",
       "      <td>0</td>\n",
       "      <td>dabe79bec87c88ae04e869bf6bd321ee5e1893cecf6625...</td>\n",
       "    </tr>\n",
       "    <tr>\n",
       "      <td>1</td>\n",
       "      <td>MEDIO MEARIM</td>\n",
       "      <td>CENTRO MARANHENSE</td>\n",
       "      <td>22.0</td>\n",
       "      <td>210000.0</td>\n",
       "      <td>1000915.2</td>\n",
       "      <td>DE R$ 360.000,01 A R$ 1.500.000,00</td>\n",
       "      <td>DE R$ 81.000,01 A R$ 360.000,00</td>\n",
       "      <td>VERDE</td>\n",
       "      <td>ACIMA DE 1 ANO</td>\n",
       "      <td>MEDIA</td>\n",
       "      <td>...</td>\n",
       "      <td>COMERCIO; REPARACAO DE VEICULOS AUTOMOTORES E ...</td>\n",
       "      <td>False</td>\n",
       "      <td>False</td>\n",
       "      <td>False</td>\n",
       "      <td>0</td>\n",
       "      <td>0</td>\n",
       "      <td>MA</td>\n",
       "      <td>False</td>\n",
       "      <td>4</td>\n",
       "      <td>32e5f4e10932153a7ba869cb0386e7e02d49d2461046b8...</td>\n",
       "    </tr>\n",
       "    <tr>\n",
       "      <td>2</td>\n",
       "      <td>AGLOMERACAO URBANA DE SAO LUIS</td>\n",
       "      <td>NORTE MARANHENSE</td>\n",
       "      <td>24.0</td>\n",
       "      <td>50000.0</td>\n",
       "      <td>50000.0</td>\n",
       "      <td>ATE R$ 81.000,00</td>\n",
       "      <td>ATE R$ 81.000,00</td>\n",
       "      <td>AZUL</td>\n",
       "      <td>ACIMA DE 1 ANO</td>\n",
       "      <td>MEDIA</td>\n",
       "      <td>...</td>\n",
       "      <td>COMERCIO; REPARACAO DE VEICULOS AUTOMOTORES E ...</td>\n",
       "      <td>False</td>\n",
       "      <td>False</td>\n",
       "      <td>False</td>\n",
       "      <td>0</td>\n",
       "      <td>0</td>\n",
       "      <td>MA</td>\n",
       "      <td>False</td>\n",
       "      <td>0</td>\n",
       "      <td>a95d6f30bba445bd3d6b0c5b36f865b38ec01d17336090...</td>\n",
       "    </tr>\n",
       "    <tr>\n",
       "      <td>3</td>\n",
       "      <td>UMARIZAL</td>\n",
       "      <td>OESTE POTIGUAR</td>\n",
       "      <td>26.0</td>\n",
       "      <td>50000.0</td>\n",
       "      <td>50000.0</td>\n",
       "      <td>ATE R$ 81.000,00</td>\n",
       "      <td>ATE R$ 81.000,00</td>\n",
       "      <td>VERDE</td>\n",
       "      <td>ACIMA DE 1 ANO</td>\n",
       "      <td>ALTA</td>\n",
       "      <td>...</td>\n",
       "      <td>COMERCIO; REPARACAO DE VEICULOS AUTOMOTORES E ...</td>\n",
       "      <td>False</td>\n",
       "      <td>False</td>\n",
       "      <td>False</td>\n",
       "      <td>0</td>\n",
       "      <td>0</td>\n",
       "      <td>RN</td>\n",
       "      <td>False</td>\n",
       "      <td>0</td>\n",
       "      <td>6cb309685cea0b6d2988818792ec2e6fcb2bd02e0afa9e...</td>\n",
       "    </tr>\n",
       "    <tr>\n",
       "      <td>4</td>\n",
       "      <td>NATAL</td>\n",
       "      <td>LESTE POTIGUAR</td>\n",
       "      <td>23.0</td>\n",
       "      <td>3029140.8</td>\n",
       "      <td>5872824.0</td>\n",
       "      <td>DE R$ 4.800.000,01 A R$ 10.000.000,00</td>\n",
       "      <td>DE R$ 1.500.000,01 A R$ 4.800.000,00</td>\n",
       "      <td>VERDE</td>\n",
       "      <td>ACIMA DE 1 ANO</td>\n",
       "      <td>ALTA</td>\n",
       "      <td>...</td>\n",
       "      <td>COMERCIO; REPARACAO DE VEICULOS AUTOMOTORES E ...</td>\n",
       "      <td>False</td>\n",
       "      <td>False</td>\n",
       "      <td>False</td>\n",
       "      <td>0</td>\n",
       "      <td>0</td>\n",
       "      <td>RN</td>\n",
       "      <td>False</td>\n",
       "      <td>3</td>\n",
       "      <td>f72aa7fa6787b0a5a1c88885b6120850df8ee0f71adc25...</td>\n",
       "    </tr>\n",
       "  </tbody>\n",
       "</table>\n",
       "<p>5 rows × 41 columns</p>\n",
       "</div>"
      ],
      "text/plain": [
       "                  nm_micro_regiao      nm_meso_regiao  nu_meses_rescencia  \\\n",
       "0             SAO RAIMUNDO NONATO  SUDOESTE PIAUIENSE                 NaN   \n",
       "1                    MEDIO MEARIM   CENTRO MARANHENSE                22.0   \n",
       "2  AGLOMERACAO URBANA DE SAO LUIS    NORTE MARANHENSE                24.0   \n",
       "3                        UMARIZAL      OESTE POTIGUAR                26.0   \n",
       "4                           NATAL      LESTE POTIGUAR                23.0   \n",
       "\n",
       "   vl_faturamento_estimado_aux  vl_faturamento_estimado_grupo_aux  \\\n",
       "0                     210000.0                           210000.0   \n",
       "1                     210000.0                          1000915.2   \n",
       "2                      50000.0                            50000.0   \n",
       "3                      50000.0                            50000.0   \n",
       "4                    3029140.8                          5872824.0   \n",
       "\n",
       "     de_faixa_faturamento_estimado_grupo  \\\n",
       "0        DE R$ 81.000,01 A R$ 360.000,00   \n",
       "1     DE R$ 360.000,01 A R$ 1.500.000,00   \n",
       "2                       ATE R$ 81.000,00   \n",
       "3                       ATE R$ 81.000,00   \n",
       "4  DE R$ 4.800.000,01 A R$ 10.000.000,00   \n",
       "\n",
       "          de_faixa_faturamento_estimado de_saude_tributaria  \\\n",
       "0       DE R$ 81.000,01 A R$ 360.000,00               CINZA   \n",
       "1       DE R$ 81.000,01 A R$ 360.000,00               VERDE   \n",
       "2                      ATE R$ 81.000,00                AZUL   \n",
       "3                      ATE R$ 81.000,00               VERDE   \n",
       "4  DE R$ 1.500.000,01 A R$ 4.800.000,00               VERDE   \n",
       "\n",
       "  de_saude_rescencia de_nivel_atividade  ...  \\\n",
       "0     SEM INFORMACAO              BAIXA  ...   \n",
       "1     ACIMA DE 1 ANO              MEDIA  ...   \n",
       "2     ACIMA DE 1 ANO              MEDIA  ...   \n",
       "3     ACIMA DE 1 ANO               ALTA  ...   \n",
       "4     ACIMA DE 1 ANO               ALTA  ...   \n",
       "\n",
       "                                         nm_segmento  fl_spa fl_antt  \\\n",
       "0  COMERCIO; REPARACAO DE VEICULOS AUTOMOTORES E ...   False   False   \n",
       "1  COMERCIO; REPARACAO DE VEICULOS AUTOMOTORES E ...   False   False   \n",
       "2  COMERCIO; REPARACAO DE VEICULOS AUTOMOTORES E ...   False   False   \n",
       "3  COMERCIO; REPARACAO DE VEICULOS AUTOMOTORES E ...   False   False   \n",
       "4  COMERCIO; REPARACAO DE VEICULOS AUTOMOTORES E ...   False   False   \n",
       "\n",
       "  fl_veiculo vl_total_veiculos_pesados_grupo vl_total_veiculos_leves_grupo  \\\n",
       "0      False                               0                             0   \n",
       "1      False                               0                             0   \n",
       "2      False                               0                             0   \n",
       "3      False                               0                             0   \n",
       "4      False                               0                             0   \n",
       "\n",
       "  sg_uf_matriz fl_simples_irregular  qt_filiais  \\\n",
       "0           PI                False           0   \n",
       "1           MA                False           4   \n",
       "2           MA                False           0   \n",
       "3           RN                False           0   \n",
       "4           RN                False           3   \n",
       "\n",
       "                                                  id  \n",
       "0  dabe79bec87c88ae04e869bf6bd321ee5e1893cecf6625...  \n",
       "1  32e5f4e10932153a7ba869cb0386e7e02d49d2461046b8...  \n",
       "2  a95d6f30bba445bd3d6b0c5b36f865b38ec01d17336090...  \n",
       "3  6cb309685cea0b6d2988818792ec2e6fcb2bd02e0afa9e...  \n",
       "4  f72aa7fa6787b0a5a1c88885b6120850df8ee0f71adc25...  \n",
       "\n",
       "[5 rows x 41 columns]"
      ]
     },
     "execution_count": 12,
     "metadata": {},
     "output_type": "execute_result"
    }
   ],
   "source": [
    "dfAlterado.head()"
   ]
  },
  {
   "cell_type": "code",
   "execution_count": 13,
   "metadata": {},
   "outputs": [
    {
     "data": {
      "text/plain": [
       "<matplotlib.axes._subplots.AxesSubplot at 0x7f889a37cd30>"
      ]
     },
     "execution_count": 13,
     "metadata": {},
     "output_type": "execute_result"
    },
    {
     "data": {
      "image/png": "[encoded data removed]",
      "text/plain": [
       "<Figure size 720x360 with 1 Axes>"
      ]
     },
     "metadata": {
      "needs_background": "light"
     },
     "output_type": "display_data"
    }
   ],
   "source": [
    "plt.figure(figsize=(10,5))\n",
    "sns.countplot(x=\"de_saude_tributaria\", data=dfAlterado, palette=\"Set3\")\n",
    "# countplot da saude tributaria \n",
    "# character, indicator of health tax status, Green if all tax are OK, Red if none are OK qq coisa entre isso nao tem \n",
    "# detalhes entao nao sei o quanto cada um é bom"
   ]
  },
  {
   "cell_type": "code",
   "execution_count": 14,
   "metadata": {},
   "outputs": [
    {
     "data": {
      "text/plain": [
       "<matplotlib.axes._subplots.AxesSubplot at 0x7f88d1dd2e80>"
      ]
     },
     "execution_count": 14,
     "metadata": {},
     "output_type": "execute_result"
    },
    {
     "data": {
      "image/png": "[encoded data removed]",
      "text/plain": [
       "<Figure size 720x360 with 1 Axes>"
      ]
     },
     "metadata": {
      "needs_background": "light"
     },
     "output_type": "display_data"
    }
   ],
   "source": [
    "plt.figure(figsize=(10,5))\n",
    "sns.countplot(x=\"de_nivel_atividade\", data=dfAlterado, palette=\"Set3\")\n",
    "# countplot nivel de atividade"
   ]
  },
  {
   "cell_type": "code",
   "execution_count": 15,
   "metadata": {},
   "outputs": [
    {
     "data": {
      "text/plain": [
       "<matplotlib.axes._subplots.AxesSubplot at 0x7f8897b866d8>"
      ]
     },
     "execution_count": 15,
     "metadata": {},
     "output_type": "execute_result"
    },
    {
     "data": {
      "image/png": "[encoded data removed]",
      "text/plain": [
       "<Figure size 720x360 with 1 Axes>"
      ]
     },
     "metadata": {
      "needs_background": "light"
     },
     "output_type": "display_data"
    }
   ],
   "source": [
    "plt.figure(figsize=(10,5))\n",
    "sns.countplot(x=\"de_saude_rescencia\", data=dfAlterado, palette=\"Set3\")"
   ]
  },
  {
   "cell_type": "code",
   "execution_count": 16,
   "metadata": {},
   "outputs": [
    {
     "name": "stdout",
     "output_type": "stream",
     "text": [
      "Histograma vl_faturamento_estimado_aux                        Histograma nu_meses_rescencia \n"
     ]
    },
    {
     "data": {
      "image/png": "[encoded data removed]",
      "text/plain": [
       "<Figure size 1080x360 with 2 Axes>"
      ]
     },
     "metadata": {
      "needs_background": "light"
     },
     "output_type": "display_data"
    }
   ],
   "source": [
    "plt.figure(figsize=(15,5))\n",
    "\n",
    "plt.subplot(1, 2, 1)\n",
    "dfAlterado['vl_faturamento_estimado_aux'].plot.hist(bins = 30,log = True)\n",
    "\n",
    "plt.subplot(1, 2, 2)\n",
    "dfAlterado['nu_meses_rescencia'].plot.hist(bins = 30,log = True)\n",
    "print(\"Histograma vl_faturamento_estimado_aux                        Histograma nu_meses_rescencia \")\n",
    "plt.show()"
   ]
  },
  {
   "cell_type": "code",
   "execution_count": 19,
   "metadata": {},
   "outputs": [
    {
     "data": {
      "text/plain": [
       "array([  210000. ,    50000. ,  3029140.8,   927288. ,    51516. ,\n",
       "              nan,  1112745.6,  1298203.2,   185457.6,  2110000. ,\n",
       "        1081836. ,   247276.8,  1483660.8,   370915.2,   123638.4,\n",
       "        2936412. ,   154548. ,  4760078.5,   741830.4,   566676. ,\n",
       "          82425.6,  2163672. ,  2410948.8,  1792756.8,    61819.2,\n",
       "         930000. ,  5872824. ,   309096. ,   556372.8,   432734.4,\n",
       "        1669118.4,  2843683.2,   103032. , 20194272. ,  1730937.6,\n",
       "        1050926.4,  1030320. ,  3348540. ,        0. ,  2349129.5,\n",
       "         494553.6,  2225491.2])"
      ]
     },
     "execution_count": 19,
     "metadata": {},
     "output_type": "execute_result"
    }
   ],
   "source": [
    "dfAlterado['vl_faturamento_estimado_aux'].unique()"
   ]
  },
  {
   "cell_type": "code",
   "execution_count": 20,
   "metadata": {},
   "outputs": [
    {
     "data": {
      "text/plain": [
       "<matplotlib.axes._subplots.AxesSubplot at 0x7f8896b6c240>"
      ]
     },
     "execution_count": 20,
     "metadata": {},
     "output_type": "execute_result"
    },
    {
     "data": {
      "image/png": "[encoded data removed]",
      "text/plain": [
       "<Figure size 432x288 with 2 Axes>"
      ]
     },
     "metadata": {
      "needs_background": "light"
     },
     "output_type": "display_data"
    }
   ],
   "source": [
    "sns.heatmap(dfAlterado.corr())\n",
    "# correlacao das variaveis do novo data frame\n",
    "# dica:há como diminuir nao só pela reducao de dimencao(se e que da)\n",
    "# as variaveis fl_... estao dumificadas desfazer isso permitira entender a distribuicao de cada tipo \n",
    "# de empresa da base\n",
    "#  exemplo: fl_ltda : boolean value, true if the company has the term 'LTDA' in the end of its legal name."
   ]
  },
  {
   "cell_type": "code",
   "execution_count": 21,
   "metadata": {},
   "outputs": [],
   "source": [
    "# vl_faturamento_estimado_aux : numeric value, value of the estimated revenue\n",
    "#     vl_faturamento_estimado_grupo_aux : numeric value, sum of the estimated revenue for the matrix\n",
    "# company and the branches\n",
    "# de_faixa_faturamento_estimado : character value, class of the estimated revenue of the company\n",
    "# de_faixa_faturamento_estimado_grupo : character value, class of the sum of estimated revenue for the\n",
    "# matrix company and branches\n",
    "\n",
    "# APARENTEMTE esta 4 variaveies descrevem o mesmo. com a diferenca de que uma esta intervalada e\n",
    "# outra é o numero absoluto"
   ]
  },
  {
   "cell_type": "code",
   "execution_count": 22,
   "metadata": {},
   "outputs": [
    {
     "data": {
      "text/plain": [
       "array([  210000. ,    50000. ,  3029140.8,   927288. ,    51516. ,\n",
       "              nan,  1112745.6,  1298203.2,   185457.6,  2110000. ,\n",
       "        1081836. ,   247276.8,  1483660.8,   370915.2,   123638.4,\n",
       "        2936412. ,   154548. ,  4760078.5,   741830.4,   566676. ,\n",
       "          82425.6,  2163672. ,  2410948.8,  1792756.8,    61819.2,\n",
       "         930000. ,  5872824. ,   309096. ,   556372.8,   432734.4,\n",
       "        1669118.4,  2843683.2,   103032. , 20194272. ,  1730937.6,\n",
       "        1050926.4,  1030320. ,  3348540. ,        0. ,  2349129.5,\n",
       "         494553.6,  2225491.2])"
      ]
     },
     "execution_count": 22,
     "metadata": {},
     "output_type": "execute_result"
    }
   ],
   "source": [
    "dfAlterado['vl_faturamento_estimado_aux'].unique()"
   ]
  },
  {
   "cell_type": "code",
   "execution_count": 23,
   "metadata": {},
   "outputs": [
    {
     "data": {
      "text/plain": [
       "array(['DE R$ 81.000,01 A R$ 360.000,00', 'ATE R$ 81.000,00',\n",
       "       'DE R$ 1.500.000,01 A R$ 4.800.000,00',\n",
       "       'DE R$ 360.000,01 A R$ 1.500.000,00', nan,\n",
       "       'DE R$ 4.800.000,01 A R$ 10.000.000,00',\n",
       "       'DE R$ 10.000.000,01 A R$ 30.000.000,00', 'SEM INFORMACAO'],\n",
       "      dtype=object)"
      ]
     },
     "execution_count": 23,
     "metadata": {},
     "output_type": "execute_result"
    }
   ],
   "source": [
    "dfAlterado['de_faixa_faturamento_estimado'].unique()"
   ]
  },
  {
   "cell_type": "code",
   "execution_count": 28,
   "metadata": {},
   "outputs": [
    {
     "data": {
      "text/plain": [
       "<matplotlib.axes._subplots.AxesSubplot at 0x7f88957ef6d8>"
      ]
     },
     "execution_count": 28,
     "metadata": {},
     "output_type": "execute_result"
    },
    {
     "data": {
      "image/png": "[encoded data removed]",
      "text/plain": [
       "<Figure size 1800x360 with 1 Axes>"
      ]
     },
     "metadata": {
      "needs_background": "light"
     },
     "output_type": "display_data"
    }
   ],
   "source": [
    "plt.figure(figsize=(25,5))\n",
    "sns.countplot(x='de_faixa_faturamento_estimado' ,data = dfAlterado)"
   ]
  },
  {
   "cell_type": "code",
   "execution_count": 31,
   "metadata": {},
   "outputs": [
    {
     "name": "stdout",
     "output_type": "stream",
     "text": [
      "['CINZA' 'VERDE' 'AZUL' 'LARANJA' nan 'AMARELO' 'VERMELHO']\n",
      "['SEM INFORMACAO' 'ACIMA DE 1 ANO' 'ATE 1 ANO' nan]\n",
      "[nan 22. 24. 26. 23. 25. 21. 11.  7. 28. 10. 52. 27. 47. 50. 48.  9.  8.\n",
      " 19. 54. 12. 40. 49. 20.]\n"
     ]
    }
   ],
   "source": [
    "# variaveis relacionadas:\n",
    "# de_saude_tributaria :character, indicator of health tax status, Green if all tax are OK, Red if none are OK\n",
    "print(dfAlterado['de_saude_tributaria'].unique())\n",
    "# de_saude_rescencia :character, indicates time of update of the most lagged input of the indicator.\n",
    "print(dfAlterado['de_saude_rescencia'].unique())\n",
    "# nu_meses_rescencia :character, number of months since the last update of the most lagged input from\n",
    "# saude_tributaria\n",
    "print(dfAlterado['nu_meses_rescencia'].unique())\n"
   ]
  },
  {
   "cell_type": "code",
   "execution_count": 33,
   "metadata": {},
   "outputs": [
    {
     "data": {
      "text/plain": [
       "<matplotlib.axes._subplots.AxesSubplot at 0x7f8895be0f28>"
      ]
     },
     "execution_count": 33,
     "metadata": {},
     "output_type": "execute_result"
    },
    {
     "data": {
      "image/png": "[encoded data removed]",
      "text/plain": [
       "<Figure size 432x288 with 1 Axes>"
      ]
     },
     "metadata": {
      "needs_background": "light"
     },
     "output_type": "display_data"
    }
   ],
   "source": [
    "sns.scatterplot(x='de_saude_tributaria',y='nu_meses_rescencia',data=dfAlterado)\n",
    "# relacao entre a saude tributaria e meses de recencia seria interessante olhar uma correlacao destes dados na base de mercado\n"
   ]
  },
  {
   "cell_type": "code",
   "execution_count": 36,
   "metadata": {},
   "outputs": [
    {
     "name": "stdout",
     "output_type": "stream",
     "text": [
      "['COMERCIO' 'INDUSTRIA' 'SERVIÇO']\n"
     ]
    },
    {
     "data": {
      "text/plain": [
       "<matplotlib.axes._subplots.AxesSubplot at 0x7f88951bc400>"
      ]
     },
     "execution_count": 36,
     "metadata": {},
     "output_type": "execute_result"
    },
    {
     "data": {
      "image/png": "[encoded data removed]",
      "text/plain": [
       "<Figure size 432x288 with 1 Axes>"
      ]
     },
     "metadata": {
      "needs_background": "light"
     },
     "output_type": "display_data"
    }
   ],
   "source": [
    "# contagem de amostras de de cada setor do portifolio \n",
    "sns.countplot(x='setor', data = dfAlterado)"
   ]
  },
  {
   "cell_type": "code",
   "execution_count": 39,
   "metadata": {},
   "outputs": [
    {
     "data": {
      "text/plain": [
       "<matplotlib.axes._subplots.AxesSubplot at 0x7f88951326a0>"
      ]
     },
     "execution_count": 39,
     "metadata": {},
     "output_type": "execute_result"
    },
    {
     "data": {
      "image/png": "[encoded data removed]",
      "text/plain": [
       "<Figure size 1800x360 with 1 Axes>"
      ]
     },
     "metadata": {
      "needs_background": "light"
     },
     "output_type": "display_data"
    }
   ],
   "source": [
    "plt.figure(figsize=(25,5))\n",
    "sns.countplot(x='nm_divisao', data = dfAlterado)"
   ]
  },
  {
   "cell_type": "code",
   "execution_count": 41,
   "metadata": {},
   "outputs": [
    {
     "data": {
      "text/plain": [
       "<matplotlib.axes._subplots.AxesSubplot at 0x7f88951fd438>"
      ]
     },
     "execution_count": 41,
     "metadata": {},
     "output_type": "execute_result"
    },
    {
     "data": {
      "image/png": "[encoded data removed]",
      "text/plain": [
       "<Figure size 1800x360 with 1 Axes>"
      ]
     },
     "metadata": {
      "needs_background": "light"
     },
     "output_type": "display_data"
    }
   ],
   "source": [
    "plt.figure(figsize=(25,5))\n",
    "\n",
    "sns.countplot(x='nm_segmento', data = dfAlterado)"
   ]
  },
  {
   "cell_type": "code",
   "execution_count": 42,
   "metadata": {},
   "outputs": [
    {
     "data": {
      "text/plain": [
       "<matplotlib.axes._subplots.AxesSubplot at 0x7f889594bc88>"
      ]
     },
     "execution_count": 42,
     "metadata": {},
     "output_type": "execute_result"
    },
    {
     "data": {
      "image/png": "[encoded data removed]",
      "text/plain": [
       "<Figure size 1800x360 with 1 Axes>"
      ]
     },
     "metadata": {
      "needs_background": "light"
     },
     "output_type": "display_data"
    }
   ],
   "source": [
    "plt.figure(figsize=(25,5))\n",
    "sns.countplot(x='de_natureza_juridica', data = dfAlterado)"
   ]
  },
  {
   "cell_type": "code",
   "execution_count": null,
   "metadata": {},
   "outputs": [],
   "source": []
  }
 ],
 "metadata": {
  "kernelspec": {
   "display_name": "Python 3",
   "language": "python",
   "name": "python3"
  },
  "language_info": {
   "codemirror_mode": {
    "name": "ipython",
    "version": 3
   },
   "file_extension": ".py",
   "mimetype": "text/x-python",
   "name": "python",
   "nbconvert_exporter": "python",
   "pygments_lexer": "ipython3",
   "version": "3.6.8"
  }
 },
 "nbformat": 4,
 "nbformat_minor": 2
}
